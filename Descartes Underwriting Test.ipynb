{
 "cells": [
  {
   "cell_type": "markdown",
   "metadata": {},
   "source": [
    "# Expected Loss of Claims - Descartes Underwriting Test"
   ]
  },
  {
   "cell_type": "markdown",
   "metadata": {},
   "source": [
    "## Doha Kaddaf - Data Science for Business X-HEC 2019-2021"
   ]
  },
  {
   "cell_type": "markdown",
   "metadata": {},
   "source": [
    "### Dependencies"
   ]
  },
  {
   "cell_type": "code",
   "execution_count": 55,
   "metadata": {},
   "outputs": [],
   "source": [
    "import numpy as np\n",
    "import pandas as pd\n",
    "import os\n",
    "import re\n",
    "import matplotlib.pyplot as plt\n",
    "import seaborn as sns\n",
    "import random\n",
    "import warnings\n",
    "import sklearn\n",
    "from sklearn.compose import ColumnTransformer\n",
    "from sklearn.pipeline import Pipeline\n",
    "from sklearn.impute import SimpleImputer\n",
    "from sklearn.preprocessing import StandardScaler, OneHotEncoder\n",
    "from sklearn.linear_model import LogisticRegression\n",
    "from sklearn.ensemble import RandomForestClassifier\n",
    "from sklearn.ensemble import GradientBoostingClassifier\n",
    "from sklearn.model_selection import train_test_split, RandomizedSearchCV, cross_val_score\n",
    "from sklearn.feature_selection import RFE\n",
    "import xgboost as xgb\n",
    "from xgboost import plot_importance\n",
    "from scipy.stats import randint as sp_randint"
   ]
  },
  {
   "cell_type": "markdown",
   "metadata": {},
   "source": [
    "### Fetch the data"
   ]
  },
  {
   "cell_type": "code",
   "execution_count": 2,
   "metadata": {},
   "outputs": [],
   "source": [
    "current_path = os.getcwd()\n",
    "data_path = current_path + '\\\\data\\\\'\n",
    "data_mean_auto = pd.read_csv(data_path+'MEAN_AUTO.csv')\n",
    "data_shell_auto = pd.read_csv(data_path+'SHELL_AUTO.csv')\n",
    "data_train_auto = pd.read_csv(data_path+'train_auto.csv')\n",
    "data_test_auto = pd.read_csv(data_path+'test_auto.csv')"
   ]
  },
  {
   "cell_type": "code",
   "execution_count": 3,
   "metadata": {},
   "outputs": [
    {
     "data": {
      "text/html": [
       "<div>\n",
       "<style scoped>\n",
       "    .dataframe tbody tr th:only-of-type {\n",
       "        vertical-align: middle;\n",
       "    }\n",
       "\n",
       "    .dataframe tbody tr th {\n",
       "        vertical-align: top;\n",
       "    }\n",
       "\n",
       "    .dataframe thead th {\n",
       "        text-align: right;\n",
       "    }\n",
       "</style>\n",
       "<table border=\"1\" class=\"dataframe\">\n",
       "  <thead>\n",
       "    <tr style=\"text-align: right;\">\n",
       "      <th></th>\n",
       "      <th>INDEX</th>\n",
       "      <th>TARGET_FLAG</th>\n",
       "      <th>TARGET_AMT</th>\n",
       "      <th>KIDSDRIV</th>\n",
       "      <th>AGE</th>\n",
       "      <th>HOMEKIDS</th>\n",
       "      <th>YOJ</th>\n",
       "      <th>INCOME</th>\n",
       "      <th>PARENT1</th>\n",
       "      <th>HOME_VAL</th>\n",
       "      <th>...</th>\n",
       "      <th>BLUEBOOK</th>\n",
       "      <th>TIF</th>\n",
       "      <th>CAR_TYPE</th>\n",
       "      <th>RED_CAR</th>\n",
       "      <th>OLDCLAIM</th>\n",
       "      <th>CLM_FREQ</th>\n",
       "      <th>REVOKED</th>\n",
       "      <th>MVR_PTS</th>\n",
       "      <th>CAR_AGE</th>\n",
       "      <th>URBANICITY</th>\n",
       "    </tr>\n",
       "  </thead>\n",
       "  <tbody>\n",
       "    <tr>\n",
       "      <th>0</th>\n",
       "      <td>1</td>\n",
       "      <td>0</td>\n",
       "      <td>0.0</td>\n",
       "      <td>0</td>\n",
       "      <td>60.0</td>\n",
       "      <td>0</td>\n",
       "      <td>11.0</td>\n",
       "      <td>$67,349</td>\n",
       "      <td>No</td>\n",
       "      <td>$0</td>\n",
       "      <td>...</td>\n",
       "      <td>$14,230</td>\n",
       "      <td>11</td>\n",
       "      <td>Minivan</td>\n",
       "      <td>yes</td>\n",
       "      <td>$4,461</td>\n",
       "      <td>2</td>\n",
       "      <td>No</td>\n",
       "      <td>3</td>\n",
       "      <td>18.0</td>\n",
       "      <td>Highly Urban/ Urban</td>\n",
       "    </tr>\n",
       "    <tr>\n",
       "      <th>1</th>\n",
       "      <td>2</td>\n",
       "      <td>0</td>\n",
       "      <td>0.0</td>\n",
       "      <td>0</td>\n",
       "      <td>43.0</td>\n",
       "      <td>0</td>\n",
       "      <td>11.0</td>\n",
       "      <td>$91,449</td>\n",
       "      <td>No</td>\n",
       "      <td>$257,252</td>\n",
       "      <td>...</td>\n",
       "      <td>$14,940</td>\n",
       "      <td>1</td>\n",
       "      <td>Minivan</td>\n",
       "      <td>yes</td>\n",
       "      <td>$0</td>\n",
       "      <td>0</td>\n",
       "      <td>No</td>\n",
       "      <td>0</td>\n",
       "      <td>1.0</td>\n",
       "      <td>Highly Urban/ Urban</td>\n",
       "    </tr>\n",
       "    <tr>\n",
       "      <th>2</th>\n",
       "      <td>4</td>\n",
       "      <td>0</td>\n",
       "      <td>0.0</td>\n",
       "      <td>0</td>\n",
       "      <td>35.0</td>\n",
       "      <td>1</td>\n",
       "      <td>10.0</td>\n",
       "      <td>$16,039</td>\n",
       "      <td>No</td>\n",
       "      <td>$124,191</td>\n",
       "      <td>...</td>\n",
       "      <td>$4,010</td>\n",
       "      <td>4</td>\n",
       "      <td>z_SUV</td>\n",
       "      <td>no</td>\n",
       "      <td>$38,690</td>\n",
       "      <td>2</td>\n",
       "      <td>No</td>\n",
       "      <td>3</td>\n",
       "      <td>10.0</td>\n",
       "      <td>Highly Urban/ Urban</td>\n",
       "    </tr>\n",
       "    <tr>\n",
       "      <th>3</th>\n",
       "      <td>5</td>\n",
       "      <td>0</td>\n",
       "      <td>0.0</td>\n",
       "      <td>0</td>\n",
       "      <td>51.0</td>\n",
       "      <td>0</td>\n",
       "      <td>14.0</td>\n",
       "      <td>NaN</td>\n",
       "      <td>No</td>\n",
       "      <td>$306,251</td>\n",
       "      <td>...</td>\n",
       "      <td>$15,440</td>\n",
       "      <td>7</td>\n",
       "      <td>Minivan</td>\n",
       "      <td>yes</td>\n",
       "      <td>$0</td>\n",
       "      <td>0</td>\n",
       "      <td>No</td>\n",
       "      <td>0</td>\n",
       "      <td>6.0</td>\n",
       "      <td>Highly Urban/ Urban</td>\n",
       "    </tr>\n",
       "    <tr>\n",
       "      <th>4</th>\n",
       "      <td>6</td>\n",
       "      <td>0</td>\n",
       "      <td>0.0</td>\n",
       "      <td>0</td>\n",
       "      <td>50.0</td>\n",
       "      <td>0</td>\n",
       "      <td>NaN</td>\n",
       "      <td>$114,986</td>\n",
       "      <td>No</td>\n",
       "      <td>$243,925</td>\n",
       "      <td>...</td>\n",
       "      <td>$18,000</td>\n",
       "      <td>1</td>\n",
       "      <td>z_SUV</td>\n",
       "      <td>no</td>\n",
       "      <td>$19,217</td>\n",
       "      <td>2</td>\n",
       "      <td>Yes</td>\n",
       "      <td>3</td>\n",
       "      <td>17.0</td>\n",
       "      <td>Highly Urban/ Urban</td>\n",
       "    </tr>\n",
       "  </tbody>\n",
       "</table>\n",
       "<p>5 rows × 26 columns</p>\n",
       "</div>"
      ],
      "text/plain": [
       "   INDEX  TARGET_FLAG  TARGET_AMT  KIDSDRIV   AGE  HOMEKIDS   YOJ    INCOME  \\\n",
       "0      1            0         0.0         0  60.0         0  11.0   $67,349   \n",
       "1      2            0         0.0         0  43.0         0  11.0   $91,449   \n",
       "2      4            0         0.0         0  35.0         1  10.0   $16,039   \n",
       "3      5            0         0.0         0  51.0         0  14.0       NaN   \n",
       "4      6            0         0.0         0  50.0         0   NaN  $114,986   \n",
       "\n",
       "  PARENT1  HOME_VAL  ... BLUEBOOK TIF CAR_TYPE RED_CAR  OLDCLAIM CLM_FREQ  \\\n",
       "0      No        $0  ...  $14,230  11  Minivan     yes    $4,461        2   \n",
       "1      No  $257,252  ...  $14,940   1  Minivan     yes        $0        0   \n",
       "2      No  $124,191  ...   $4,010   4    z_SUV      no   $38,690        2   \n",
       "3      No  $306,251  ...  $15,440   7  Minivan     yes        $0        0   \n",
       "4      No  $243,925  ...  $18,000   1    z_SUV      no   $19,217        2   \n",
       "\n",
       "  REVOKED  MVR_PTS CAR_AGE           URBANICITY  \n",
       "0      No        3    18.0  Highly Urban/ Urban  \n",
       "1      No        0     1.0  Highly Urban/ Urban  \n",
       "2      No        3    10.0  Highly Urban/ Urban  \n",
       "3      No        0     6.0  Highly Urban/ Urban  \n",
       "4     Yes        3    17.0  Highly Urban/ Urban  \n",
       "\n",
       "[5 rows x 26 columns]"
      ]
     },
     "execution_count": 3,
     "metadata": {},
     "output_type": "execute_result"
    }
   ],
   "source": [
    "data_train_auto.head()"
   ]
  },
  {
   "cell_type": "code",
   "execution_count": 4,
   "metadata": {},
   "outputs": [
    {
     "data": {
      "text/plain": [
       "(8161, 26)"
      ]
     },
     "execution_count": 4,
     "metadata": {},
     "output_type": "execute_result"
    }
   ],
   "source": [
    "data_train_auto.shape"
   ]
  },
  {
   "cell_type": "code",
   "execution_count": 5,
   "metadata": {},
   "outputs": [
    {
     "data": {
      "text/html": [
       "<div>\n",
       "<style scoped>\n",
       "    .dataframe tbody tr th:only-of-type {\n",
       "        vertical-align: middle;\n",
       "    }\n",
       "\n",
       "    .dataframe tbody tr th {\n",
       "        vertical-align: top;\n",
       "    }\n",
       "\n",
       "    .dataframe thead th {\n",
       "        text-align: right;\n",
       "    }\n",
       "</style>\n",
       "<table border=\"1\" class=\"dataframe\">\n",
       "  <thead>\n",
       "    <tr style=\"text-align: right;\">\n",
       "      <th></th>\n",
       "      <th>INDEX</th>\n",
       "      <th>TARGET_FLAG</th>\n",
       "      <th>TARGET_AMT</th>\n",
       "      <th>KIDSDRIV</th>\n",
       "      <th>AGE</th>\n",
       "      <th>HOMEKIDS</th>\n",
       "      <th>YOJ</th>\n",
       "      <th>INCOME</th>\n",
       "      <th>PARENT1</th>\n",
       "      <th>HOME_VAL</th>\n",
       "      <th>...</th>\n",
       "      <th>BLUEBOOK</th>\n",
       "      <th>TIF</th>\n",
       "      <th>CAR_TYPE</th>\n",
       "      <th>RED_CAR</th>\n",
       "      <th>OLDCLAIM</th>\n",
       "      <th>CLM_FREQ</th>\n",
       "      <th>REVOKED</th>\n",
       "      <th>MVR_PTS</th>\n",
       "      <th>CAR_AGE</th>\n",
       "      <th>URBANICITY</th>\n",
       "    </tr>\n",
       "  </thead>\n",
       "  <tbody>\n",
       "    <tr>\n",
       "      <th>0</th>\n",
       "      <td>3</td>\n",
       "      <td>NaN</td>\n",
       "      <td>NaN</td>\n",
       "      <td>0</td>\n",
       "      <td>48.0</td>\n",
       "      <td>0</td>\n",
       "      <td>11.0</td>\n",
       "      <td>$52,881</td>\n",
       "      <td>No</td>\n",
       "      <td>$0</td>\n",
       "      <td>...</td>\n",
       "      <td>$21,970</td>\n",
       "      <td>1</td>\n",
       "      <td>Van</td>\n",
       "      <td>yes</td>\n",
       "      <td>$0</td>\n",
       "      <td>0</td>\n",
       "      <td>No</td>\n",
       "      <td>2</td>\n",
       "      <td>10.0</td>\n",
       "      <td>Highly Urban/ Urban</td>\n",
       "    </tr>\n",
       "    <tr>\n",
       "      <th>1</th>\n",
       "      <td>9</td>\n",
       "      <td>NaN</td>\n",
       "      <td>NaN</td>\n",
       "      <td>1</td>\n",
       "      <td>40.0</td>\n",
       "      <td>1</td>\n",
       "      <td>11.0</td>\n",
       "      <td>$50,815</td>\n",
       "      <td>Yes</td>\n",
       "      <td>$0</td>\n",
       "      <td>...</td>\n",
       "      <td>$18,930</td>\n",
       "      <td>6</td>\n",
       "      <td>Minivan</td>\n",
       "      <td>no</td>\n",
       "      <td>$3,295</td>\n",
       "      <td>1</td>\n",
       "      <td>No</td>\n",
       "      <td>2</td>\n",
       "      <td>1.0</td>\n",
       "      <td>Highly Urban/ Urban</td>\n",
       "    </tr>\n",
       "    <tr>\n",
       "      <th>2</th>\n",
       "      <td>10</td>\n",
       "      <td>NaN</td>\n",
       "      <td>NaN</td>\n",
       "      <td>0</td>\n",
       "      <td>44.0</td>\n",
       "      <td>2</td>\n",
       "      <td>12.0</td>\n",
       "      <td>$43,486</td>\n",
       "      <td>Yes</td>\n",
       "      <td>$0</td>\n",
       "      <td>...</td>\n",
       "      <td>$5,900</td>\n",
       "      <td>10</td>\n",
       "      <td>z_SUV</td>\n",
       "      <td>no</td>\n",
       "      <td>$0</td>\n",
       "      <td>0</td>\n",
       "      <td>No</td>\n",
       "      <td>0</td>\n",
       "      <td>10.0</td>\n",
       "      <td>z_Highly Rural/ Rural</td>\n",
       "    </tr>\n",
       "    <tr>\n",
       "      <th>3</th>\n",
       "      <td>18</td>\n",
       "      <td>NaN</td>\n",
       "      <td>NaN</td>\n",
       "      <td>0</td>\n",
       "      <td>35.0</td>\n",
       "      <td>2</td>\n",
       "      <td>NaN</td>\n",
       "      <td>$21,204</td>\n",
       "      <td>Yes</td>\n",
       "      <td>$0</td>\n",
       "      <td>...</td>\n",
       "      <td>$9,230</td>\n",
       "      <td>6</td>\n",
       "      <td>Pickup</td>\n",
       "      <td>no</td>\n",
       "      <td>$0</td>\n",
       "      <td>0</td>\n",
       "      <td>Yes</td>\n",
       "      <td>0</td>\n",
       "      <td>4.0</td>\n",
       "      <td>z_Highly Rural/ Rural</td>\n",
       "    </tr>\n",
       "    <tr>\n",
       "      <th>4</th>\n",
       "      <td>21</td>\n",
       "      <td>NaN</td>\n",
       "      <td>NaN</td>\n",
       "      <td>0</td>\n",
       "      <td>59.0</td>\n",
       "      <td>0</td>\n",
       "      <td>12.0</td>\n",
       "      <td>$87,460</td>\n",
       "      <td>No</td>\n",
       "      <td>$0</td>\n",
       "      <td>...</td>\n",
       "      <td>$15,420</td>\n",
       "      <td>1</td>\n",
       "      <td>Minivan</td>\n",
       "      <td>yes</td>\n",
       "      <td>$44,857</td>\n",
       "      <td>2</td>\n",
       "      <td>No</td>\n",
       "      <td>4</td>\n",
       "      <td>1.0</td>\n",
       "      <td>Highly Urban/ Urban</td>\n",
       "    </tr>\n",
       "  </tbody>\n",
       "</table>\n",
       "<p>5 rows × 26 columns</p>\n",
       "</div>"
      ],
      "text/plain": [
       "   INDEX  TARGET_FLAG  TARGET_AMT  KIDSDRIV   AGE  HOMEKIDS   YOJ   INCOME  \\\n",
       "0      3          NaN         NaN         0  48.0         0  11.0  $52,881   \n",
       "1      9          NaN         NaN         1  40.0         1  11.0  $50,815   \n",
       "2     10          NaN         NaN         0  44.0         2  12.0  $43,486   \n",
       "3     18          NaN         NaN         0  35.0         2   NaN  $21,204   \n",
       "4     21          NaN         NaN         0  59.0         0  12.0  $87,460   \n",
       "\n",
       "  PARENT1 HOME_VAL  ... BLUEBOOK TIF CAR_TYPE RED_CAR  OLDCLAIM CLM_FREQ  \\\n",
       "0      No       $0  ...  $21,970   1      Van     yes        $0        0   \n",
       "1     Yes       $0  ...  $18,930   6  Minivan      no    $3,295        1   \n",
       "2     Yes       $0  ...   $5,900  10    z_SUV      no        $0        0   \n",
       "3     Yes       $0  ...   $9,230   6   Pickup      no        $0        0   \n",
       "4      No       $0  ...  $15,420   1  Minivan     yes   $44,857        2   \n",
       "\n",
       "  REVOKED  MVR_PTS CAR_AGE             URBANICITY  \n",
       "0      No        2    10.0    Highly Urban/ Urban  \n",
       "1      No        2     1.0    Highly Urban/ Urban  \n",
       "2      No        0    10.0  z_Highly Rural/ Rural  \n",
       "3     Yes        0     4.0  z_Highly Rural/ Rural  \n",
       "4      No        4     1.0    Highly Urban/ Urban  \n",
       "\n",
       "[5 rows x 26 columns]"
      ]
     },
     "execution_count": 5,
     "metadata": {},
     "output_type": "execute_result"
    }
   ],
   "source": [
    "data_test_auto.head()"
   ]
  },
  {
   "cell_type": "markdown",
   "metadata": {},
   "source": [
    "TARGET_AMT needs to be droped because it is a variable to predict."
   ]
  },
  {
   "cell_type": "code",
   "execution_count": 6,
   "metadata": {},
   "outputs": [],
   "source": [
    "data_train_auto.drop(['TARGET_AMT'], axis=1, inplace=True)\n",
    "data_test_auto.drop(['TARGET_AMT'], axis=1, inplace=True)"
   ]
  },
  {
   "cell_type": "code",
   "execution_count": 7,
   "metadata": {},
   "outputs": [
    {
     "data": {
      "text/plain": [
       "(2141, 25)"
      ]
     },
     "execution_count": 7,
     "metadata": {},
     "output_type": "execute_result"
    }
   ],
   "source": [
    "data_test_auto.shape"
   ]
  },
  {
   "cell_type": "markdown",
   "metadata": {},
   "source": [
    "### Data Cleaning"
   ]
  },
  {
   "cell_type": "code",
   "execution_count": 8,
   "metadata": {},
   "outputs": [],
   "source": [
    "#Remove index duplicate\n",
    "data_train_auto.drop(['INDEX'], axis=1, inplace=True)\n",
    "data_test_auto.set_index('INDEX', inplace=True)"
   ]
  },
  {
   "cell_type": "code",
   "execution_count": 9,
   "metadata": {},
   "outputs": [
    {
     "name": "stdout",
     "output_type": "stream",
     "text": [
      "<class 'pandas.core.frame.DataFrame'>\n",
      "RangeIndex: 8161 entries, 0 to 8160\n",
      "Data columns (total 24 columns):\n",
      " #   Column       Non-Null Count  Dtype  \n",
      "---  ------       --------------  -----  \n",
      " 0   TARGET_FLAG  8161 non-null   int64  \n",
      " 1   KIDSDRIV     8161 non-null   int64  \n",
      " 2   AGE          8155 non-null   float64\n",
      " 3   HOMEKIDS     8161 non-null   int64  \n",
      " 4   YOJ          7707 non-null   float64\n",
      " 5   INCOME       7716 non-null   object \n",
      " 6   PARENT1      8161 non-null   object \n",
      " 7   HOME_VAL     7697 non-null   object \n",
      " 8   MSTATUS      8161 non-null   object \n",
      " 9   SEX          8161 non-null   object \n",
      " 10  EDUCATION    8161 non-null   object \n",
      " 11  JOB          7635 non-null   object \n",
      " 12  TRAVTIME     8161 non-null   int64  \n",
      " 13  CAR_USE      8161 non-null   object \n",
      " 14  BLUEBOOK     8161 non-null   object \n",
      " 15  TIF          8161 non-null   int64  \n",
      " 16  CAR_TYPE     8161 non-null   object \n",
      " 17  RED_CAR      8161 non-null   object \n",
      " 18  OLDCLAIM     8161 non-null   object \n",
      " 19  CLM_FREQ     8161 non-null   int64  \n",
      " 20  REVOKED      8161 non-null   object \n",
      " 21  MVR_PTS      8161 non-null   int64  \n",
      " 22  CAR_AGE      7651 non-null   float64\n",
      " 23  URBANICITY   8161 non-null   object \n",
      "dtypes: float64(3), int64(7), object(14)\n",
      "memory usage: 1.5+ MB\n"
     ]
    }
   ],
   "source": [
    "#Get info about the type of data\n",
    "data_train_auto.info()"
   ]
  },
  {
   "cell_type": "code",
   "execution_count": 10,
   "metadata": {},
   "outputs": [],
   "source": [
    "#Fetch the number of missing values per column in a dictionary\n",
    "list_col_names = list(data_train_auto.columns)\n",
    "missing_per_col = dict()\n",
    "for col_name in list_col_names:\n",
    "    missing_per_col[col_name] = np.sum(data_train_auto[col_name].isna())"
   ]
  },
  {
   "cell_type": "code",
   "execution_count": 11,
   "metadata": {},
   "outputs": [
    {
     "data": {
      "text/plain": [
       "{'TARGET_FLAG': 0,\n",
       " 'KIDSDRIV': 0,\n",
       " 'AGE': 6,\n",
       " 'HOMEKIDS': 0,\n",
       " 'YOJ': 454,\n",
       " 'INCOME': 445,\n",
       " 'PARENT1': 0,\n",
       " 'HOME_VAL': 464,\n",
       " 'MSTATUS': 0,\n",
       " 'SEX': 0,\n",
       " 'EDUCATION': 0,\n",
       " 'JOB': 526,\n",
       " 'TRAVTIME': 0,\n",
       " 'CAR_USE': 0,\n",
       " 'BLUEBOOK': 0,\n",
       " 'TIF': 0,\n",
       " 'CAR_TYPE': 0,\n",
       " 'RED_CAR': 0,\n",
       " 'OLDCLAIM': 0,\n",
       " 'CLM_FREQ': 0,\n",
       " 'REVOKED': 0,\n",
       " 'MVR_PTS': 0,\n",
       " 'CAR_AGE': 510,\n",
       " 'URBANICITY': 0}"
      ]
     },
     "execution_count": 11,
     "metadata": {},
     "output_type": "execute_result"
    }
   ],
   "source": [
    "missing_per_col"
   ]
  },
  {
   "cell_type": "markdown",
   "metadata": {},
   "source": [
    "So we have 4 float variables and 7 int. The variables containing missing values are:\n",
    "- AGE: 6 missing values\n",
    "- YOJ: 454 missing values\n",
    "- INCOME: 445 missing values\n",
    "- HOME_VAL: 464 missing values\n",
    "- JOB: 526 missing values\n",
    "- CAR_AGE: 510 missing values\n",
    "I want to take a more closer look on the object variable to know their type."
   ]
  },
  {
   "cell_type": "code",
   "execution_count": 12,
   "metadata": {},
   "outputs": [
    {
     "data": {
      "text/html": [
       "<div>\n",
       "<style scoped>\n",
       "    .dataframe tbody tr th:only-of-type {\n",
       "        vertical-align: middle;\n",
       "    }\n",
       "\n",
       "    .dataframe tbody tr th {\n",
       "        vertical-align: top;\n",
       "    }\n",
       "\n",
       "    .dataframe thead th {\n",
       "        text-align: right;\n",
       "    }\n",
       "</style>\n",
       "<table border=\"1\" class=\"dataframe\">\n",
       "  <thead>\n",
       "    <tr style=\"text-align: right;\">\n",
       "      <th></th>\n",
       "      <th>INCOME</th>\n",
       "      <th>PARENT1</th>\n",
       "      <th>HOME_VAL</th>\n",
       "      <th>MSTATUS</th>\n",
       "      <th>SEX</th>\n",
       "      <th>EDUCATION</th>\n",
       "      <th>JOB</th>\n",
       "      <th>CAR_USE</th>\n",
       "      <th>BLUEBOOK</th>\n",
       "      <th>CAR_TYPE</th>\n",
       "      <th>RED_CAR</th>\n",
       "      <th>OLDCLAIM</th>\n",
       "      <th>REVOKED</th>\n",
       "      <th>URBANICITY</th>\n",
       "    </tr>\n",
       "  </thead>\n",
       "  <tbody>\n",
       "    <tr>\n",
       "      <th>0</th>\n",
       "      <td>$67,349</td>\n",
       "      <td>No</td>\n",
       "      <td>$0</td>\n",
       "      <td>z_No</td>\n",
       "      <td>M</td>\n",
       "      <td>PhD</td>\n",
       "      <td>Professional</td>\n",
       "      <td>Private</td>\n",
       "      <td>$14,230</td>\n",
       "      <td>Minivan</td>\n",
       "      <td>yes</td>\n",
       "      <td>$4,461</td>\n",
       "      <td>No</td>\n",
       "      <td>Highly Urban/ Urban</td>\n",
       "    </tr>\n",
       "    <tr>\n",
       "      <th>1</th>\n",
       "      <td>$91,449</td>\n",
       "      <td>No</td>\n",
       "      <td>$257,252</td>\n",
       "      <td>z_No</td>\n",
       "      <td>M</td>\n",
       "      <td>z_High School</td>\n",
       "      <td>z_Blue Collar</td>\n",
       "      <td>Commercial</td>\n",
       "      <td>$14,940</td>\n",
       "      <td>Minivan</td>\n",
       "      <td>yes</td>\n",
       "      <td>$0</td>\n",
       "      <td>No</td>\n",
       "      <td>Highly Urban/ Urban</td>\n",
       "    </tr>\n",
       "    <tr>\n",
       "      <th>2</th>\n",
       "      <td>$16,039</td>\n",
       "      <td>No</td>\n",
       "      <td>$124,191</td>\n",
       "      <td>Yes</td>\n",
       "      <td>z_F</td>\n",
       "      <td>z_High School</td>\n",
       "      <td>Clerical</td>\n",
       "      <td>Private</td>\n",
       "      <td>$4,010</td>\n",
       "      <td>z_SUV</td>\n",
       "      <td>no</td>\n",
       "      <td>$38,690</td>\n",
       "      <td>No</td>\n",
       "      <td>Highly Urban/ Urban</td>\n",
       "    </tr>\n",
       "    <tr>\n",
       "      <th>3</th>\n",
       "      <td>NaN</td>\n",
       "      <td>No</td>\n",
       "      <td>$306,251</td>\n",
       "      <td>Yes</td>\n",
       "      <td>M</td>\n",
       "      <td>&lt;High School</td>\n",
       "      <td>z_Blue Collar</td>\n",
       "      <td>Private</td>\n",
       "      <td>$15,440</td>\n",
       "      <td>Minivan</td>\n",
       "      <td>yes</td>\n",
       "      <td>$0</td>\n",
       "      <td>No</td>\n",
       "      <td>Highly Urban/ Urban</td>\n",
       "    </tr>\n",
       "    <tr>\n",
       "      <th>4</th>\n",
       "      <td>$114,986</td>\n",
       "      <td>No</td>\n",
       "      <td>$243,925</td>\n",
       "      <td>Yes</td>\n",
       "      <td>z_F</td>\n",
       "      <td>PhD</td>\n",
       "      <td>Doctor</td>\n",
       "      <td>Private</td>\n",
       "      <td>$18,000</td>\n",
       "      <td>z_SUV</td>\n",
       "      <td>no</td>\n",
       "      <td>$19,217</td>\n",
       "      <td>Yes</td>\n",
       "      <td>Highly Urban/ Urban</td>\n",
       "    </tr>\n",
       "  </tbody>\n",
       "</table>\n",
       "</div>"
      ],
      "text/plain": [
       "     INCOME PARENT1  HOME_VAL MSTATUS  SEX      EDUCATION            JOB  \\\n",
       "0   $67,349      No        $0    z_No    M            PhD   Professional   \n",
       "1   $91,449      No  $257,252    z_No    M  z_High School  z_Blue Collar   \n",
       "2   $16,039      No  $124,191     Yes  z_F  z_High School       Clerical   \n",
       "3       NaN      No  $306,251     Yes    M   <High School  z_Blue Collar   \n",
       "4  $114,986      No  $243,925     Yes  z_F            PhD         Doctor   \n",
       "\n",
       "      CAR_USE BLUEBOOK CAR_TYPE RED_CAR OLDCLAIM REVOKED           URBANICITY  \n",
       "0     Private  $14,230  Minivan     yes   $4,461      No  Highly Urban/ Urban  \n",
       "1  Commercial  $14,940  Minivan     yes       $0      No  Highly Urban/ Urban  \n",
       "2     Private   $4,010    z_SUV      no  $38,690      No  Highly Urban/ Urban  \n",
       "3     Private  $15,440  Minivan     yes       $0      No  Highly Urban/ Urban  \n",
       "4     Private  $18,000    z_SUV      no  $19,217     Yes  Highly Urban/ Urban  "
      ]
     },
     "execution_count": 12,
     "metadata": {},
     "output_type": "execute_result"
    }
   ],
   "source": [
    "#Observe the object variables\n",
    "data_train_auto.select_dtypes(include=['object']).head()"
   ]
  },
  {
   "cell_type": "markdown",
   "metadata": {},
   "source": [
    "- Looking at the data we observe that INCOME, HOME_VAL, BLUEBOOK and OLDCLAIM are numerical data that need to be converted.\n",
    "- PARENT1, MSTATUS, RED_CAR and REVOKED are boolean/binary with Yes or No (are unique is going to be use to take a look at distinct values).\n",
    "- SEX is a binary variable M or F.\n",
    "- CAR_USE is a binary variable: Private or Commercial.\n",
    "- EDUCATION, JOB, CAR_TYPE and URBANICITY are categorical variables."
   ]
  },
  {
   "cell_type": "code",
   "execution_count": 13,
   "metadata": {},
   "outputs": [],
   "source": [
    "#Create a function to modify the numerical variables\n",
    "def remove_extra_signs_from_numerical(x):\n",
    "    x = x.replace('$','').replace(',','')\n",
    "    return x"
   ]
  },
  {
   "cell_type": "code",
   "execution_count": 14,
   "metadata": {},
   "outputs": [],
   "source": [
    "#Convert objects into numerical variables\n",
    "list_col_conv_numerical = {'INCOME', 'HOME_VAL', 'BLUEBOOK', 'OLDCLAIM'}\n",
    "for col_name in list_col_conv_numerical:\n",
    "    data_train_auto[col_name] = data_train_auto[col_name].astype(str)\n",
    "    data_train_auto[col_name] = data_train_auto[col_name].apply(remove_extra_signs_from_numerical)\n",
    "    data_train_auto[col_name] = data_train_auto[col_name].astype(float)\n",
    "    data_test_auto[col_name] = data_test_auto[col_name].astype(str)\n",
    "    data_test_auto[col_name] = data_test_auto[col_name].apply(remove_extra_signs_from_numerical)\n",
    "    data_test_auto[col_name] = data_test_auto[col_name].astype(float)"
   ]
  },
  {
   "cell_type": "code",
   "execution_count": 15,
   "metadata": {},
   "outputs": [],
   "source": [
    "#Check the format of categorical variables\n",
    "list_col_cat_names = {'PARENT1', 'MSTATUS', 'RED_CAR', 'REVOKED', 'SEX', 'CAR_USE', 'EDUCATION', 'JOB', 'CAR_TYPE', 'URBANICITY'}\n",
    "val_unique_obj_col = dict()\n",
    "for col_name in list_col_cat_names:\n",
    "    val_unique_obj_col[col_name] = list(data_train_auto[col_name].unique())"
   ]
  },
  {
   "cell_type": "code",
   "execution_count": 16,
   "metadata": {},
   "outputs": [
    {
     "data": {
      "text/plain": [
       "{'CAR_USE': ['Private', 'Commercial'],\n",
       " 'RED_CAR': ['yes', 'no'],\n",
       " 'MSTATUS': ['z_No', 'Yes'],\n",
       " 'JOB': ['Professional',\n",
       "  'z_Blue Collar',\n",
       "  'Clerical',\n",
       "  'Doctor',\n",
       "  'Lawyer',\n",
       "  'Manager',\n",
       "  nan,\n",
       "  'Home Maker',\n",
       "  'Student'],\n",
       " 'PARENT1': ['No', 'Yes'],\n",
       " 'EDUCATION': ['PhD', 'z_High School', '<High School', 'Bachelors', 'Masters'],\n",
       " 'REVOKED': ['No', 'Yes'],\n",
       " 'CAR_TYPE': ['Minivan',\n",
       "  'z_SUV',\n",
       "  'Sports Car',\n",
       "  'Van',\n",
       "  'Panel Truck',\n",
       "  'Pickup'],\n",
       " 'SEX': ['M', 'z_F'],\n",
       " 'URBANICITY': ['Highly Urban/ Urban', 'z_Highly Rural/ Rural']}"
      ]
     },
     "execution_count": 16,
     "metadata": {},
     "output_type": "execute_result"
    }
   ],
   "source": [
    "val_unique_obj_col"
   ]
  },
  {
   "cell_type": "code",
   "execution_count": 17,
   "metadata": {},
   "outputs": [],
   "source": [
    "#Create a function to modify the categorical variables\n",
    "def remove_extra_signs_from_categorical(x):\n",
    "    x = x.replace('z_','').replace('<','')\n",
    "    return x"
   ]
  },
  {
   "cell_type": "code",
   "execution_count": 18,
   "metadata": {},
   "outputs": [],
   "source": [
    "#Convert objects into categorical variables\n",
    "for col_name in list_col_cat_names:\n",
    "    data_train_auto[col_name] = data_train_auto[col_name].astype(str)\n",
    "    data_train_auto[col_name] = data_train_auto[col_name].apply(remove_extra_signs_from_categorical)\n",
    "    data_train_auto[col_name] = data_train_auto[col_name].replace('nan',None)\n",
    "    data_test_auto[col_name] = data_test_auto[col_name].astype(str)\n",
    "    data_test_auto[col_name] = data_test_auto[col_name].apply(remove_extra_signs_from_categorical)\n",
    "    data_test_auto[col_name] = data_test_auto[col_name].replace('nan',None)"
   ]
  },
  {
   "cell_type": "code",
   "execution_count": 19,
   "metadata": {},
   "outputs": [
    {
     "name": "stdout",
     "output_type": "stream",
     "text": [
      "<class 'pandas.core.frame.DataFrame'>\n",
      "RangeIndex: 8161 entries, 0 to 8160\n",
      "Data columns (total 24 columns):\n",
      " #   Column       Non-Null Count  Dtype  \n",
      "---  ------       --------------  -----  \n",
      " 0   TARGET_FLAG  8161 non-null   int64  \n",
      " 1   KIDSDRIV     8161 non-null   int64  \n",
      " 2   AGE          8155 non-null   float64\n",
      " 3   HOMEKIDS     8161 non-null   int64  \n",
      " 4   YOJ          7707 non-null   float64\n",
      " 5   INCOME       7716 non-null   float64\n",
      " 6   PARENT1      8161 non-null   object \n",
      " 7   HOME_VAL     7697 non-null   float64\n",
      " 8   MSTATUS      8161 non-null   object \n",
      " 9   SEX          8161 non-null   object \n",
      " 10  EDUCATION    8161 non-null   object \n",
      " 11  JOB          8161 non-null   object \n",
      " 12  TRAVTIME     8161 non-null   int64  \n",
      " 13  CAR_USE      8161 non-null   object \n",
      " 14  BLUEBOOK     8161 non-null   float64\n",
      " 15  TIF          8161 non-null   int64  \n",
      " 16  CAR_TYPE     8161 non-null   object \n",
      " 17  RED_CAR      8161 non-null   object \n",
      " 18  OLDCLAIM     8161 non-null   float64\n",
      " 19  CLM_FREQ     8161 non-null   int64  \n",
      " 20  REVOKED      8161 non-null   object \n",
      " 21  MVR_PTS      8161 non-null   int64  \n",
      " 22  CAR_AGE      7651 non-null   float64\n",
      " 23  URBANICITY   8161 non-null   object \n",
      "dtypes: float64(7), int64(7), object(10)\n",
      "memory usage: 1.5+ MB\n"
     ]
    }
   ],
   "source": [
    "#Check if the conversion worked\n",
    "data_train_auto.info()"
   ]
  },
  {
   "cell_type": "markdown",
   "metadata": {},
   "source": [
    "The data is more coherent now and the number of missing values did not change, so the convertion was successful."
   ]
  },
  {
   "cell_type": "markdown",
   "metadata": {},
   "source": [
    "### Data Analysis"
   ]
  },
  {
   "cell_type": "code",
   "execution_count": 20,
   "metadata": {},
   "outputs": [
    {
     "data": {
      "text/html": [
       "<div>\n",
       "<style scoped>\n",
       "    .dataframe tbody tr th:only-of-type {\n",
       "        vertical-align: middle;\n",
       "    }\n",
       "\n",
       "    .dataframe tbody tr th {\n",
       "        vertical-align: top;\n",
       "    }\n",
       "\n",
       "    .dataframe thead th {\n",
       "        text-align: right;\n",
       "    }\n",
       "</style>\n",
       "<table border=\"1\" class=\"dataframe\">\n",
       "  <thead>\n",
       "    <tr style=\"text-align: right;\">\n",
       "      <th></th>\n",
       "      <th>TARGET_FLAG</th>\n",
       "      <th>KIDSDRIV</th>\n",
       "      <th>AGE</th>\n",
       "      <th>HOMEKIDS</th>\n",
       "      <th>YOJ</th>\n",
       "      <th>INCOME</th>\n",
       "      <th>PARENT1</th>\n",
       "      <th>HOME_VAL</th>\n",
       "      <th>MSTATUS</th>\n",
       "      <th>SEX</th>\n",
       "      <th>...</th>\n",
       "      <th>BLUEBOOK</th>\n",
       "      <th>TIF</th>\n",
       "      <th>CAR_TYPE</th>\n",
       "      <th>RED_CAR</th>\n",
       "      <th>OLDCLAIM</th>\n",
       "      <th>CLM_FREQ</th>\n",
       "      <th>REVOKED</th>\n",
       "      <th>MVR_PTS</th>\n",
       "      <th>CAR_AGE</th>\n",
       "      <th>URBANICITY</th>\n",
       "    </tr>\n",
       "  </thead>\n",
       "  <tbody>\n",
       "    <tr>\n",
       "      <th>0</th>\n",
       "      <td>0</td>\n",
       "      <td>0</td>\n",
       "      <td>60.0</td>\n",
       "      <td>0</td>\n",
       "      <td>11.0</td>\n",
       "      <td>67349.0</td>\n",
       "      <td>No</td>\n",
       "      <td>0.0</td>\n",
       "      <td>No</td>\n",
       "      <td>M</td>\n",
       "      <td>...</td>\n",
       "      <td>14230.0</td>\n",
       "      <td>11</td>\n",
       "      <td>Minivan</td>\n",
       "      <td>yes</td>\n",
       "      <td>4461.0</td>\n",
       "      <td>2</td>\n",
       "      <td>No</td>\n",
       "      <td>3</td>\n",
       "      <td>18.0</td>\n",
       "      <td>Highly Urban/ Urban</td>\n",
       "    </tr>\n",
       "    <tr>\n",
       "      <th>1</th>\n",
       "      <td>0</td>\n",
       "      <td>0</td>\n",
       "      <td>43.0</td>\n",
       "      <td>0</td>\n",
       "      <td>11.0</td>\n",
       "      <td>91449.0</td>\n",
       "      <td>No</td>\n",
       "      <td>257252.0</td>\n",
       "      <td>No</td>\n",
       "      <td>M</td>\n",
       "      <td>...</td>\n",
       "      <td>14940.0</td>\n",
       "      <td>1</td>\n",
       "      <td>Minivan</td>\n",
       "      <td>yes</td>\n",
       "      <td>0.0</td>\n",
       "      <td>0</td>\n",
       "      <td>No</td>\n",
       "      <td>0</td>\n",
       "      <td>1.0</td>\n",
       "      <td>Highly Urban/ Urban</td>\n",
       "    </tr>\n",
       "    <tr>\n",
       "      <th>2</th>\n",
       "      <td>0</td>\n",
       "      <td>0</td>\n",
       "      <td>35.0</td>\n",
       "      <td>1</td>\n",
       "      <td>10.0</td>\n",
       "      <td>16039.0</td>\n",
       "      <td>No</td>\n",
       "      <td>124191.0</td>\n",
       "      <td>Yes</td>\n",
       "      <td>F</td>\n",
       "      <td>...</td>\n",
       "      <td>4010.0</td>\n",
       "      <td>4</td>\n",
       "      <td>SUV</td>\n",
       "      <td>no</td>\n",
       "      <td>38690.0</td>\n",
       "      <td>2</td>\n",
       "      <td>No</td>\n",
       "      <td>3</td>\n",
       "      <td>10.0</td>\n",
       "      <td>Highly Urban/ Urban</td>\n",
       "    </tr>\n",
       "    <tr>\n",
       "      <th>3</th>\n",
       "      <td>0</td>\n",
       "      <td>0</td>\n",
       "      <td>51.0</td>\n",
       "      <td>0</td>\n",
       "      <td>14.0</td>\n",
       "      <td>NaN</td>\n",
       "      <td>No</td>\n",
       "      <td>306251.0</td>\n",
       "      <td>Yes</td>\n",
       "      <td>M</td>\n",
       "      <td>...</td>\n",
       "      <td>15440.0</td>\n",
       "      <td>7</td>\n",
       "      <td>Minivan</td>\n",
       "      <td>yes</td>\n",
       "      <td>0.0</td>\n",
       "      <td>0</td>\n",
       "      <td>No</td>\n",
       "      <td>0</td>\n",
       "      <td>6.0</td>\n",
       "      <td>Highly Urban/ Urban</td>\n",
       "    </tr>\n",
       "    <tr>\n",
       "      <th>4</th>\n",
       "      <td>0</td>\n",
       "      <td>0</td>\n",
       "      <td>50.0</td>\n",
       "      <td>0</td>\n",
       "      <td>NaN</td>\n",
       "      <td>114986.0</td>\n",
       "      <td>No</td>\n",
       "      <td>243925.0</td>\n",
       "      <td>Yes</td>\n",
       "      <td>F</td>\n",
       "      <td>...</td>\n",
       "      <td>18000.0</td>\n",
       "      <td>1</td>\n",
       "      <td>SUV</td>\n",
       "      <td>no</td>\n",
       "      <td>19217.0</td>\n",
       "      <td>2</td>\n",
       "      <td>Yes</td>\n",
       "      <td>3</td>\n",
       "      <td>17.0</td>\n",
       "      <td>Highly Urban/ Urban</td>\n",
       "    </tr>\n",
       "  </tbody>\n",
       "</table>\n",
       "<p>5 rows × 24 columns</p>\n",
       "</div>"
      ],
      "text/plain": [
       "   TARGET_FLAG  KIDSDRIV   AGE  HOMEKIDS   YOJ    INCOME PARENT1  HOME_VAL  \\\n",
       "0            0         0  60.0         0  11.0   67349.0      No       0.0   \n",
       "1            0         0  43.0         0  11.0   91449.0      No  257252.0   \n",
       "2            0         0  35.0         1  10.0   16039.0      No  124191.0   \n",
       "3            0         0  51.0         0  14.0       NaN      No  306251.0   \n",
       "4            0         0  50.0         0   NaN  114986.0      No  243925.0   \n",
       "\n",
       "  MSTATUS SEX  ... BLUEBOOK TIF  CAR_TYPE RED_CAR  OLDCLAIM  CLM_FREQ REVOKED  \\\n",
       "0      No   M  ...  14230.0  11   Minivan     yes    4461.0         2      No   \n",
       "1      No   M  ...  14940.0   1   Minivan     yes       0.0         0      No   \n",
       "2     Yes   F  ...   4010.0   4       SUV      no   38690.0         2      No   \n",
       "3     Yes   M  ...  15440.0   7   Minivan     yes       0.0         0      No   \n",
       "4     Yes   F  ...  18000.0   1       SUV      no   19217.0         2     Yes   \n",
       "\n",
       "  MVR_PTS  CAR_AGE           URBANICITY  \n",
       "0       3     18.0  Highly Urban/ Urban  \n",
       "1       0      1.0  Highly Urban/ Urban  \n",
       "2       3     10.0  Highly Urban/ Urban  \n",
       "3       0      6.0  Highly Urban/ Urban  \n",
       "4       3     17.0  Highly Urban/ Urban  \n",
       "\n",
       "[5 rows x 24 columns]"
      ]
     },
     "execution_count": 20,
     "metadata": {},
     "output_type": "execute_result"
    }
   ],
   "source": [
    "data_train_auto.head()"
   ]
  },
  {
   "cell_type": "code",
   "execution_count": 21,
   "metadata": {},
   "outputs": [],
   "source": [
    "numerical_col = list(data_train_auto.select_dtypes(include=['int64','float64']).columns)\n",
    "categorical_col = list(data_train_auto.select_dtypes(include=['object']).columns)"
   ]
  },
  {
   "cell_type": "markdown",
   "metadata": {},
   "source": [
    "#### Correlation matrix"
   ]
  },
  {
   "cell_type": "code",
   "execution_count": 22,
   "metadata": {},
   "outputs": [
    {
     "data": {
      "text/plain": [
       "<AxesSubplot:>"
      ]
     },
     "execution_count": 22,
     "metadata": {},
     "output_type": "execute_result"
    },
    {
     "data": {
      "image/png": "[encoded data removed]",
      "text/plain": [
       "<Figure size 576x360 with 2 Axes>"
      ]
     },
     "metadata": {
      "needs_background": "light"
     },
     "output_type": "display_data"
    }
   ],
   "source": [
    "corr = data_train_auto[numerical_col].corr()\n",
    "# Generate a mask for the upper triangle\n",
    "mask = np.triu(np.ones_like(corr, dtype=bool))\n",
    "\n",
    "# Set up the matplotlib figure\n",
    "f, ax = plt.subplots(figsize=(8, 5))\n",
    "\n",
    "# Generate a custom diverging colormap\n",
    "cmap = sns.diverging_palette(230, 20, as_cmap=True)\n",
    "\n",
    "# Draw the heatmap with the mask and correct aspect ratio\n",
    "sns.heatmap(corr, mask=mask, cmap=cmap, vmax=.3, center=0,\n",
    "            square=True, linewidths=.5, cbar_kws={\"shrink\": .5})"
   ]
  },
  {
   "cell_type": "markdown",
   "metadata": {},
   "source": [
    "TARGET\n",
    "Some variables are correlated, a variable selection need to be done.\n",
    "Variables correlatted posively with TARGET_FLAG: CLM_FREQ and MVR_PTS.\n",
    "Variables correlatted negatively with TARGET_FLAG: INCOME and HOME_VAL."
   ]
  },
  {
   "cell_type": "markdown",
   "metadata": {},
   "source": [
    "### Numerical Variables Distribution Plot"
   ]
  },
  {
   "cell_type": "code",
   "execution_count": 23,
   "metadata": {
    "scrolled": false
   },
   "outputs": [
    {
     "data": {
      "image/png": "[encoded data removed]",
      "text/plain": [
       "<Figure size 360x360 with 1 Axes>"
      ]
     },
     "metadata": {
      "needs_background": "light"
     },
     "output_type": "display_data"
    },
    {
     "data": {
      "image/png": "[encoded data removed]",
      "text/plain": [
       "<Figure size 360x360 with 1 Axes>"
      ]
     },
     "metadata": {
      "needs_background": "light"
     },
     "output_type": "display_data"
    },
    {
     "data": {
      "image/png": "[encoded data removed]",
      "text/plain": [
       "<Figure size 360x360 with 1 Axes>"
      ]
     },
     "metadata": {
      "needs_background": "light"
     },
     "output_type": "display_data"
    },
    {
     "data": {
      "image/png": "[encoded data removed]",
      "text/plain": [
       "<Figure size 360x360 with 1 Axes>"
      ]
     },
     "metadata": {
      "needs_background": "light"
     },
     "output_type": "display_data"
    },
    {
     "data": {
      "image/png": "[encoded data removed]",
      "text/plain": [
       "<Figure size 360x360 with 1 Axes>"
      ]
     },
     "metadata": {
      "needs_background": "light"
     },
     "output_type": "display_data"
    },
    {
     "data": {
      "image/png": "[encoded data removed]",
      "text/plain": [
       "<Figure size 360x360 with 1 Axes>"
      ]
     },
     "metadata": {
      "needs_background": "light"
     },
     "output_type": "display_data"
    },
    {
     "data": {
      "image/png": "[encoded data removed]",
      "text/plain": [
       "<Figure size 360x360 with 1 Axes>"
      ]
     },
     "metadata": {
      "needs_background": "light"
     },
     "output_type": "display_data"
    },
    {
     "data": {
      "image/png": "[encoded data removed]",
      "text/plain": [
       "<Figure size 360x360 with 1 Axes>"
      ]
     },
     "metadata": {
      "needs_background": "light"
     },
     "output_type": "display_data"
    },
    {
     "data": {
      "image/png": "[encoded data removed]",
      "text/plain": [
       "<Figure size 360x360 with 1 Axes>"
      ]
     },
     "metadata": {
      "needs_background": "light"
     },
     "output_type": "display_data"
    },
    {
     "data": {
      "image/png": "[encoded data removed]",
      "text/plain": [
       "<Figure size 360x360 with 1 Axes>"
      ]
     },
     "metadata": {
      "needs_background": "light"
     },
     "output_type": "display_data"
    },
    {
     "data": {
      "image/png": "[encoded data removed]",
      "text/plain": [
       "<Figure size 360x360 with 1 Axes>"
      ]
     },
     "metadata": {
      "needs_background": "light"
     },
     "output_type": "display_data"
    },
    {
     "data": {
      "image/png": "[encoded data removed]",
      "text/plain": [
       "<Figure size 360x360 with 1 Axes>"
      ]
     },
     "metadata": {
      "needs_background": "light"
     },
     "output_type": "display_data"
    },
    {
     "data": {
      "image/png": "[encoded data removed]",
      "text/plain": [
       "<Figure size 360x360 with 1 Axes>"
      ]
     },
     "metadata": {
      "needs_background": "light"
     },
     "output_type": "display_data"
    },
    {
     "data": {
      "image/png": "[encoded data removed]",
      "text/plain": [
       "<Figure size 360x360 with 1 Axes>"
      ]
     },
     "metadata": {
      "needs_background": "light"
     },
     "output_type": "display_data"
    }
   ],
   "source": [
    "for num_col in numerical_col:\n",
    "    sns.displot(data=data_train_auto, x=num_col)"
   ]
  },
  {
   "cell_type": "markdown",
   "metadata": {},
   "source": [
    "- Target Flag is a categorical variable not a numerical one as thought in the begining.\n",
    "- Target Flag is not that balanced, some undersampling might be needed to improve the estimator efficency.\n",
    "- When using a classical model such as Linear Regression a logarithmic transformation is needed on highly skewed variables. If Gradient Bosting is used for example there is no need to do so."
   ]
  },
  {
   "cell_type": "markdown",
   "metadata": {},
   "source": [
    "### Categorical Variables Count Plot"
   ]
  },
  {
   "cell_type": "code",
   "execution_count": 24,
   "metadata": {
    "scrolled": false
   },
   "outputs": [
    {
     "data": {
      "image/png": "[encoded data removed]",
      "text/plain": [
       "<Figure size 432x288 with 1 Axes>"
      ]
     },
     "metadata": {
      "needs_background": "light"
     },
     "output_type": "display_data"
    },
    {
     "data": {
      "image/png": "[encoded data removed]",
      "text/plain": [
       "<Figure size 432x288 with 1 Axes>"
      ]
     },
     "metadata": {
      "needs_background": "light"
     },
     "output_type": "display_data"
    },
    {
     "data": {
      "image/png": "[encoded data removed]",
      "text/plain": [
       "<Figure size 432x288 with 1 Axes>"
      ]
     },
     "metadata": {
      "needs_background": "light"
     },
     "output_type": "display_data"
    },
    {
     "data": {
      "image/png": "[encoded data removed]",
      "text/plain": [
       "<Figure size 432x288 with 1 Axes>"
      ]
     },
     "metadata": {
      "needs_background": "light"
     },
     "output_type": "display_data"
    },
    {
     "data": {
      "image/png": "[encoded data removed]",
      "text/plain": [
       "<Figure size 432x288 with 1 Axes>"
      ]
     },
     "metadata": {
      "needs_background": "light"
     },
     "output_type": "display_data"
    },
    {
     "data": {
      "image/png": "[encoded data removed]",
      "text/plain": [
       "<Figure size 432x288 with 1 Axes>"
      ]
     },
     "metadata": {
      "needs_background": "light"
     },
     "output_type": "display_data"
    },
    {
     "data": {
      "image/png": "[encoded data removed]",
      "text/plain": [
       "<Figure size 432x288 with 1 Axes>"
      ]
     },
     "metadata": {
      "needs_background": "light"
     },
     "output_type": "display_data"
    },
    {
     "data": {
      "image/png": "[encoded data removed]",
      "text/plain": [
       "<Figure size 432x288 with 1 Axes>"
      ]
     },
     "metadata": {
      "needs_background": "light"
     },
     "output_type": "display_data"
    },
    {
     "data": {
      "image/png": "[encoded data removed]",
      "text/plain": [
       "<Figure size 432x288 with 1 Axes>"
      ]
     },
     "metadata": {
      "needs_background": "light"
     },
     "output_type": "display_data"
    },
    {
     "data": {
      "image/png": "[encoded data removed]",
      "text/plain": [
       "<Figure size 432x288 with 1 Axes>"
      ]
     },
     "metadata": {
      "needs_background": "light"
     },
     "output_type": "display_data"
    }
   ],
   "source": [
    "for cat_col in categorical_col:\n",
    "    plt.figure()\n",
    "    sns.countplot(data=data_train_auto, x=cat_col)"
   ]
  },
  {
   "cell_type": "markdown",
   "metadata": {},
   "source": [
    "Some variable are not balanced but it is not that problematic."
   ]
  },
  {
   "cell_type": "markdown",
   "metadata": {},
   "source": [
    "### Undersampling No values"
   ]
  },
  {
   "cell_type": "code",
   "execution_count": 25,
   "metadata": {},
   "outputs": [],
   "source": [
    "#Find indexes of TARGET_FLAG equals 0\n",
    "indexes = list(data_train_auto[data_train_auto.TARGET_FLAG == 0].index)"
   ]
  },
  {
   "cell_type": "code",
   "execution_count": 26,
   "metadata": {},
   "outputs": [],
   "source": [
    "#Choose randomly the same amount of TARGET_FLAG equals 1\n",
    "random.seed(42)\n",
    "random.shuffle(indexes)\n",
    "chosen_zeros_indexes = indexes[:np.sum(data_train_auto.TARGET_FLAG == 1)]\n",
    "chosen_zeros_indexes = np.sort(chosen_zeros_indexes)"
   ]
  },
  {
   "cell_type": "code",
   "execution_count": 27,
   "metadata": {},
   "outputs": [],
   "source": [
    "#Construct a new undersampled Dataset\n",
    "data_train_auto_chosen_zeros = data_train_auto.iloc[chosen_zeros_indexes,:]\n",
    "data_train_auto_undersampled = pd.concat([data_train_auto[data_train_auto.TARGET_FLAG == 1],data_train_auto_chosen_zeros])\n",
    "data_train_auto_undersampled = data_train_auto_undersampled.sample(frac=1).reset_index(drop=True)"
   ]
  },
  {
   "cell_type": "code",
   "execution_count": 28,
   "metadata": {},
   "outputs": [
    {
     "data": {
      "text/html": [
       "<div>\n",
       "<style scoped>\n",
       "    .dataframe tbody tr th:only-of-type {\n",
       "        vertical-align: middle;\n",
       "    }\n",
       "\n",
       "    .dataframe tbody tr th {\n",
       "        vertical-align: top;\n",
       "    }\n",
       "\n",
       "    .dataframe thead th {\n",
       "        text-align: right;\n",
       "    }\n",
       "</style>\n",
       "<table border=\"1\" class=\"dataframe\">\n",
       "  <thead>\n",
       "    <tr style=\"text-align: right;\">\n",
       "      <th></th>\n",
       "      <th>TARGET_FLAG</th>\n",
       "      <th>KIDSDRIV</th>\n",
       "      <th>AGE</th>\n",
       "      <th>HOMEKIDS</th>\n",
       "      <th>YOJ</th>\n",
       "      <th>INCOME</th>\n",
       "      <th>PARENT1</th>\n",
       "      <th>HOME_VAL</th>\n",
       "      <th>MSTATUS</th>\n",
       "      <th>SEX</th>\n",
       "      <th>...</th>\n",
       "      <th>BLUEBOOK</th>\n",
       "      <th>TIF</th>\n",
       "      <th>CAR_TYPE</th>\n",
       "      <th>RED_CAR</th>\n",
       "      <th>OLDCLAIM</th>\n",
       "      <th>CLM_FREQ</th>\n",
       "      <th>REVOKED</th>\n",
       "      <th>MVR_PTS</th>\n",
       "      <th>CAR_AGE</th>\n",
       "      <th>URBANICITY</th>\n",
       "    </tr>\n",
       "  </thead>\n",
       "  <tbody>\n",
       "    <tr>\n",
       "      <th>0</th>\n",
       "      <td>1</td>\n",
       "      <td>0</td>\n",
       "      <td>48.0</td>\n",
       "      <td>0</td>\n",
       "      <td>9.0</td>\n",
       "      <td>49251.0</td>\n",
       "      <td>No</td>\n",
       "      <td>180173.0</td>\n",
       "      <td>Yes</td>\n",
       "      <td>F</td>\n",
       "      <td>...</td>\n",
       "      <td>11230.0</td>\n",
       "      <td>7</td>\n",
       "      <td>SUV</td>\n",
       "      <td>no</td>\n",
       "      <td>0.0</td>\n",
       "      <td>0</td>\n",
       "      <td>No</td>\n",
       "      <td>0</td>\n",
       "      <td>1.0</td>\n",
       "      <td>Highly Urban/ Urban</td>\n",
       "    </tr>\n",
       "    <tr>\n",
       "      <th>1</th>\n",
       "      <td>1</td>\n",
       "      <td>0</td>\n",
       "      <td>47.0</td>\n",
       "      <td>0</td>\n",
       "      <td>8.0</td>\n",
       "      <td>90940.0</td>\n",
       "      <td>No</td>\n",
       "      <td>0.0</td>\n",
       "      <td>No</td>\n",
       "      <td>M</td>\n",
       "      <td>...</td>\n",
       "      <td>16710.0</td>\n",
       "      <td>10</td>\n",
       "      <td>Van</td>\n",
       "      <td>yes</td>\n",
       "      <td>8490.0</td>\n",
       "      <td>3</td>\n",
       "      <td>No</td>\n",
       "      <td>0</td>\n",
       "      <td>10.0</td>\n",
       "      <td>Highly Urban/ Urban</td>\n",
       "    </tr>\n",
       "    <tr>\n",
       "      <th>2</th>\n",
       "      <td>1</td>\n",
       "      <td>0</td>\n",
       "      <td>28.0</td>\n",
       "      <td>1</td>\n",
       "      <td>0.0</td>\n",
       "      <td>0.0</td>\n",
       "      <td>Yes</td>\n",
       "      <td>0.0</td>\n",
       "      <td>No</td>\n",
       "      <td>F</td>\n",
       "      <td>...</td>\n",
       "      <td>15370.0</td>\n",
       "      <td>3</td>\n",
       "      <td>Sports Car</td>\n",
       "      <td>no</td>\n",
       "      <td>2747.0</td>\n",
       "      <td>1</td>\n",
       "      <td>No</td>\n",
       "      <td>4</td>\n",
       "      <td>6.0</td>\n",
       "      <td>Highly Urban/ Urban</td>\n",
       "    </tr>\n",
       "    <tr>\n",
       "      <th>3</th>\n",
       "      <td>0</td>\n",
       "      <td>0</td>\n",
       "      <td>45.0</td>\n",
       "      <td>0</td>\n",
       "      <td>13.0</td>\n",
       "      <td>278656.0</td>\n",
       "      <td>No</td>\n",
       "      <td>NaN</td>\n",
       "      <td>No</td>\n",
       "      <td>M</td>\n",
       "      <td>...</td>\n",
       "      <td>31310.0</td>\n",
       "      <td>7</td>\n",
       "      <td>Minivan</td>\n",
       "      <td>yes</td>\n",
       "      <td>0.0</td>\n",
       "      <td>0</td>\n",
       "      <td>No</td>\n",
       "      <td>0</td>\n",
       "      <td>16.0</td>\n",
       "      <td>Highly Urban/ Urban</td>\n",
       "    </tr>\n",
       "    <tr>\n",
       "      <th>4</th>\n",
       "      <td>1</td>\n",
       "      <td>0</td>\n",
       "      <td>41.0</td>\n",
       "      <td>1</td>\n",
       "      <td>8.0</td>\n",
       "      <td>126468.0</td>\n",
       "      <td>Yes</td>\n",
       "      <td>0.0</td>\n",
       "      <td>No</td>\n",
       "      <td>F</td>\n",
       "      <td>...</td>\n",
       "      <td>32690.0</td>\n",
       "      <td>3</td>\n",
       "      <td>Pickup</td>\n",
       "      <td>no</td>\n",
       "      <td>0.0</td>\n",
       "      <td>0</td>\n",
       "      <td>No</td>\n",
       "      <td>2</td>\n",
       "      <td>18.0</td>\n",
       "      <td>Highly Urban/ Urban</td>\n",
       "    </tr>\n",
       "  </tbody>\n",
       "</table>\n",
       "<p>5 rows × 24 columns</p>\n",
       "</div>"
      ],
      "text/plain": [
       "   TARGET_FLAG  KIDSDRIV   AGE  HOMEKIDS   YOJ    INCOME PARENT1  HOME_VAL  \\\n",
       "0            1         0  48.0         0   9.0   49251.0      No  180173.0   \n",
       "1            1         0  47.0         0   8.0   90940.0      No       0.0   \n",
       "2            1         0  28.0         1   0.0       0.0     Yes       0.0   \n",
       "3            0         0  45.0         0  13.0  278656.0      No       NaN   \n",
       "4            1         0  41.0         1   8.0  126468.0     Yes       0.0   \n",
       "\n",
       "  MSTATUS SEX  ... BLUEBOOK TIF    CAR_TYPE RED_CAR  OLDCLAIM  CLM_FREQ  \\\n",
       "0     Yes   F  ...  11230.0   7         SUV      no       0.0         0   \n",
       "1      No   M  ...  16710.0  10         Van     yes    8490.0         3   \n",
       "2      No   F  ...  15370.0   3  Sports Car      no    2747.0         1   \n",
       "3      No   M  ...  31310.0   7     Minivan     yes       0.0         0   \n",
       "4      No   F  ...  32690.0   3      Pickup      no       0.0         0   \n",
       "\n",
       "  REVOKED MVR_PTS  CAR_AGE           URBANICITY  \n",
       "0      No       0      1.0  Highly Urban/ Urban  \n",
       "1      No       0     10.0  Highly Urban/ Urban  \n",
       "2      No       4      6.0  Highly Urban/ Urban  \n",
       "3      No       0     16.0  Highly Urban/ Urban  \n",
       "4      No       2     18.0  Highly Urban/ Urban  \n",
       "\n",
       "[5 rows x 24 columns]"
      ]
     },
     "execution_count": 28,
     "metadata": {},
     "output_type": "execute_result"
    }
   ],
   "source": [
    "data_train_auto_undersampled.head()"
   ]
  },
  {
   "cell_type": "code",
   "execution_count": 29,
   "metadata": {},
   "outputs": [
    {
     "data": {
      "text/plain": [
       "<AxesSubplot:xlabel='TARGET_FLAG', ylabel='count'>"
      ]
     },
     "execution_count": 29,
     "metadata": {},
     "output_type": "execute_result"
    },
    {
     "data": {
      "image/png": "[encoded data removed]",
      "text/plain": [
       "<Figure size 432x288 with 1 Axes>"
      ]
     },
     "metadata": {
      "needs_background": "light"
     },
     "output_type": "display_data"
    }
   ],
   "source": [
    "sns.countplot(data=data_train_auto_undersampled, x='TARGET_FLAG')"
   ]
  },
  {
   "cell_type": "markdown",
   "metadata": {},
   "source": [
    "### Preprocessing Pipeline"
   ]
  },
  {
   "cell_type": "code",
   "execution_count": 30,
   "metadata": {},
   "outputs": [],
   "source": [
    "#Isolate the Target variable TARGET FLAG\n",
    "X = data_train_auto_undersampled.loc[:, data_train_auto_undersampled.columns != 'TARGET_FLAG']\n",
    "X_test = data_test_auto.loc[:, data_test_auto.columns != 'TARGET_FLAG']\n",
    "y = data_train_auto_undersampled.loc[:, 'TARGET_FLAG']\n",
    "numerical_col.remove('TARGET_FLAG')"
   ]
  },
  {
   "cell_type": "code",
   "execution_count": 31,
   "metadata": {},
   "outputs": [],
   "source": [
    "#Construct a data preprocessing pipeline\n",
    "numeric_transformer = Pipeline(steps=[\n",
    "    ('imputer', SimpleImputer(strategy='median')),\n",
    "    ('scaler', StandardScaler())])\n",
    "\n",
    "categorical_transformer = Pipeline(steps=[\n",
    "    ('imputer', SimpleImputer(strategy='most_frequent', fill_value='missing')),\n",
    "    ('onehot', OneHotEncoder(handle_unknown='ignore'))])\n",
    "\n",
    "preprocessor = ColumnTransformer(\n",
    "    transformers=[\n",
    "        ('num', numeric_transformer, numerical_col),\n",
    "        ('cat', categorical_transformer, categorical_col)])\n",
    "\n",
    "# Append classifier to preprocessing pipeline.\n",
    "# Now we have a full prediction pipeline.\n",
    "clf_log_reg = Pipeline(steps=[('preprocessor', preprocessor),\n",
    "                      ('classifier', LogisticRegression())])\n",
    "\n",
    "clf_rand_forest = Pipeline(steps=[('preprocessor', preprocessor),\n",
    "                      ('classifier', RandomForestClassifier())])\n",
    "\n",
    "clf_grad_boost = Pipeline(steps=[('preprocessor', preprocessor),\n",
    "                      ('classifier', GradientBoostingClassifier())])\n",
    "#Test on different type of algorithms\n",
    "scores = dict()\n",
    "scores['Logistic Regression Score'] = np.mean(cross_val_score(clf_log_reg, X, y, cv=5, scoring='accuracy'))\n",
    "scores['Random Forest Score'] = np.mean(cross_val_score(clf_rand_forest, X, y, cv=5, scoring='accuracy'))\n",
    "scores['Gradient Boosting Score'] = np.mean(cross_val_score(clf_grad_boost, X, y, cv=5, scoring='accuracy'))"
   ]
  },
  {
   "cell_type": "code",
   "execution_count": 32,
   "metadata": {},
   "outputs": [
    {
     "data": {
      "text/plain": [
       "{'Logistic Regression Score': 0.7220153547243129,\n",
       " 'Random Forest Score': 0.723640562557432,\n",
       " 'Gradient Boosting Score': 0.7450083672199003}"
      ]
     },
     "execution_count": 32,
     "metadata": {},
     "output_type": "execute_result"
    }
   ],
   "source": [
    "scores"
   ]
  },
  {
   "cell_type": "markdown",
   "metadata": {},
   "source": [
    "Comparable scores are found using three different models. For simplicity reasons we continue working with Gradient Boosting as it gave the best score."
   ]
  },
  {
   "cell_type": "markdown",
   "metadata": {},
   "source": [
    "### Variable Selection - Gradient Boosting"
   ]
  },
  {
   "cell_type": "code",
   "execution_count": 33,
   "metadata": {},
   "outputs": [],
   "source": [
    "#Preprocess the data once and for all before further computations\n",
    "X_postpro = preprocessor.fit_transform(X)\n",
    "X_postpro_test = preprocessor.transform(X_test)"
   ]
  },
  {
   "cell_type": "code",
   "execution_count": 34,
   "metadata": {},
   "outputs": [],
   "source": [
    "#Function that get that columns name found online. For knowledge purposes only.\n",
    "def get_feature_names(column_transformer):\n",
    "    \"\"\"Get feature names from all transformers.\n",
    "    Returns\n",
    "    -------\n",
    "    feature_names : list of strings\n",
    "        Names of the features produced by transform.\n",
    "    \"\"\"\n",
    "    # Remove the internal helper function\n",
    "    #check_is_fitted(column_transformer)\n",
    "    \n",
    "    # Turn loopkup into function for better handling with pipeline later\n",
    "    def get_names(trans):\n",
    "        # >> Original get_feature_names() method\n",
    "        if trans == 'drop' or (\n",
    "                hasattr(column, '__len__') and not len(column)):\n",
    "            return []\n",
    "        if trans == 'passthrough':\n",
    "            if hasattr(column_transformer, '_df_columns'):\n",
    "                if ((not isinstance(column, slice))\n",
    "                        and all(isinstance(col, str) for col in column)):\n",
    "                    return column\n",
    "                else:\n",
    "                    return column_transformer._df_columns[column]\n",
    "            else:\n",
    "                indices = np.arange(column_transformer._n_features)\n",
    "                return ['x%d' % i for i in indices[column]]\n",
    "        if not hasattr(trans, 'get_feature_names'):\n",
    "        # >>> Change: Return input column names if no method avaiable\n",
    "            # Turn error into a warning\n",
    "            warnings.warn(\"Transformer %s (type %s) does not \"\n",
    "                                 \"provide get_feature_names. \"\n",
    "                                 \"Will return input column names if available\"\n",
    "                                 % (str(name), type(trans).__name__))\n",
    "            # For transformers without a get_features_names method, use the input\n",
    "            # names to the column transformer\n",
    "            if column is None:\n",
    "                return []\n",
    "            else:\n",
    "                return [name + \"__\" + f for f in column]\n",
    "\n",
    "        return [name + \"__\" + f for f in trans.get_feature_names()]\n",
    "    \n",
    "    ### Start of processing\n",
    "    feature_names = []\n",
    "    \n",
    "    # Allow transformers to be pipelines. Pipeline steps are named differently, so preprocessing is needed\n",
    "    if type(column_transformer) == sklearn.pipeline.Pipeline:\n",
    "        l_transformers = [(name, trans, None, None) for step, name, trans in column_transformer._iter()]\n",
    "    else:\n",
    "        # For column transformers, follow the original method\n",
    "        l_transformers = list(column_transformer._iter(fitted=True))\n",
    "    \n",
    "    \n",
    "    for name, trans, column, _ in l_transformers: \n",
    "        if type(trans) == sklearn.pipeline.Pipeline:\n",
    "            # Recursive call on pipeline\n",
    "            _names = get_feature_names(trans)\n",
    "            # if pipeline has no transformer that returns names\n",
    "            if len(_names)==0:\n",
    "                _names = [name + \"__\" + f for f in column]\n",
    "            feature_names.extend(_names)\n",
    "        else:\n",
    "            feature_names.extend(get_names(trans))\n",
    "    \n",
    "    return feature_names"
   ]
  },
  {
   "cell_type": "code",
   "execution_count": 81,
   "metadata": {
    "scrolled": true
   },
   "outputs": [
    {
     "name": "stderr",
     "output_type": "stream",
     "text": [
      "C:\\Users\\dohak\\Anaconda3\\lib\\site-packages\\ipykernel_launcher.py:33: UserWarning: Transformer imputer (type SimpleImputer) does not provide get_feature_names. Will return input column names if available\n",
      "C:\\Users\\dohak\\Anaconda3\\lib\\site-packages\\ipykernel_launcher.py:33: UserWarning: Transformer scaler (type StandardScaler) does not provide get_feature_names. Will return input column names if available\n"
     ]
    }
   ],
   "source": [
    "#Add the column names to the processed columns\n",
    "df_X_postpro = pd.DataFrame(X_postpro, columns=get_feature_names(preprocessor))\n",
    "df_X_postpro_test = pd.DataFrame(X_postpro_test, columns=get_feature_names(preprocessor))\n",
    "df_X_postpro_test['INDEX'] = X_test.index\n",
    "df_X_postpro_test.set_index('INDEX', inplace=True)"
   ]
  },
  {
   "cell_type": "code",
   "execution_count": 83,
   "metadata": {},
   "outputs": [
    {
     "data": {
      "text/html": [
       "<div>\n",
       "<style scoped>\n",
       "    .dataframe tbody tr th:only-of-type {\n",
       "        vertical-align: middle;\n",
       "    }\n",
       "\n",
       "    .dataframe tbody tr th {\n",
       "        vertical-align: top;\n",
       "    }\n",
       "\n",
       "    .dataframe thead th {\n",
       "        text-align: right;\n",
       "    }\n",
       "</style>\n",
       "<table border=\"1\" class=\"dataframe\">\n",
       "  <thead>\n",
       "    <tr style=\"text-align: right;\">\n",
       "      <th></th>\n",
       "      <th>num__KIDSDRIV</th>\n",
       "      <th>num__AGE</th>\n",
       "      <th>num__HOMEKIDS</th>\n",
       "      <th>num__YOJ</th>\n",
       "      <th>num__INCOME</th>\n",
       "      <th>num__HOME_VAL</th>\n",
       "      <th>num__TRAVTIME</th>\n",
       "      <th>num__BLUEBOOK</th>\n",
       "      <th>num__TIF</th>\n",
       "      <th>num__OLDCLAIM</th>\n",
       "      <th>...</th>\n",
       "      <th>onehot__x6_Pickup</th>\n",
       "      <th>onehot__x6_SUV</th>\n",
       "      <th>onehot__x6_Sports Car</th>\n",
       "      <th>onehot__x6_Van</th>\n",
       "      <th>onehot__x7_no</th>\n",
       "      <th>onehot__x7_yes</th>\n",
       "      <th>onehot__x8_No</th>\n",
       "      <th>onehot__x8_Yes</th>\n",
       "      <th>onehot__x9_Highly Rural/ Rural</th>\n",
       "      <th>onehot__x9_Highly Urban/ Urban</th>\n",
       "    </tr>\n",
       "  </thead>\n",
       "  <tbody>\n",
       "    <tr>\n",
       "      <th>0</th>\n",
       "      <td>-0.36566</td>\n",
       "      <td>0.426135</td>\n",
       "      <td>-0.697162</td>\n",
       "      <td>-0.352634</td>\n",
       "      <td>-0.188267</td>\n",
       "      <td>0.328662</td>\n",
       "      <td>-1.579639</td>\n",
       "      <td>-0.476527</td>\n",
       "      <td>0.439906</td>\n",
       "      <td>-0.506305</td>\n",
       "      <td>...</td>\n",
       "      <td>0.0</td>\n",
       "      <td>1.0</td>\n",
       "      <td>0.0</td>\n",
       "      <td>0.0</td>\n",
       "      <td>1.0</td>\n",
       "      <td>0.0</td>\n",
       "      <td>1.0</td>\n",
       "      <td>0.0</td>\n",
       "      <td>0.0</td>\n",
       "      <td>1.0</td>\n",
       "    </tr>\n",
       "    <tr>\n",
       "      <th>1</th>\n",
       "      <td>-0.36566</td>\n",
       "      <td>0.313486</td>\n",
       "      <td>-0.697162</td>\n",
       "      <td>-0.596560</td>\n",
       "      <td>0.739371</td>\n",
       "      <td>-1.139090</td>\n",
       "      <td>1.012751</td>\n",
       "      <td>0.186926</td>\n",
       "      <td>1.169393</td>\n",
       "      <td>0.419902</td>\n",
       "      <td>...</td>\n",
       "      <td>0.0</td>\n",
       "      <td>0.0</td>\n",
       "      <td>0.0</td>\n",
       "      <td>1.0</td>\n",
       "      <td>0.0</td>\n",
       "      <td>1.0</td>\n",
       "      <td>1.0</td>\n",
       "      <td>0.0</td>\n",
       "      <td>0.0</td>\n",
       "      <td>1.0</td>\n",
       "    </tr>\n",
       "    <tr>\n",
       "      <th>2</th>\n",
       "      <td>-0.36566</td>\n",
       "      <td>-1.826844</td>\n",
       "      <td>0.169210</td>\n",
       "      <td>-2.547969</td>\n",
       "      <td>-1.284169</td>\n",
       "      <td>-1.139090</td>\n",
       "      <td>-0.441517</td>\n",
       "      <td>0.024695</td>\n",
       "      <td>-0.532744</td>\n",
       "      <td>-0.206624</td>\n",
       "      <td>...</td>\n",
       "      <td>0.0</td>\n",
       "      <td>0.0</td>\n",
       "      <td>1.0</td>\n",
       "      <td>0.0</td>\n",
       "      <td>1.0</td>\n",
       "      <td>0.0</td>\n",
       "      <td>1.0</td>\n",
       "      <td>0.0</td>\n",
       "      <td>0.0</td>\n",
       "      <td>1.0</td>\n",
       "    </tr>\n",
       "    <tr>\n",
       "      <th>3</th>\n",
       "      <td>-0.36566</td>\n",
       "      <td>0.088188</td>\n",
       "      <td>-0.697162</td>\n",
       "      <td>0.623071</td>\n",
       "      <td>4.916309</td>\n",
       "      <td>0.051368</td>\n",
       "      <td>-0.125371</td>\n",
       "      <td>1.954522</td>\n",
       "      <td>0.439906</td>\n",
       "      <td>-0.506305</td>\n",
       "      <td>...</td>\n",
       "      <td>0.0</td>\n",
       "      <td>0.0</td>\n",
       "      <td>0.0</td>\n",
       "      <td>0.0</td>\n",
       "      <td>0.0</td>\n",
       "      <td>1.0</td>\n",
       "      <td>1.0</td>\n",
       "      <td>0.0</td>\n",
       "      <td>0.0</td>\n",
       "      <td>1.0</td>\n",
       "    </tr>\n",
       "    <tr>\n",
       "      <th>4</th>\n",
       "      <td>-0.36566</td>\n",
       "      <td>-0.362407</td>\n",
       "      <td>0.169210</td>\n",
       "      <td>-0.596560</td>\n",
       "      <td>1.529917</td>\n",
       "      <td>-1.139090</td>\n",
       "      <td>0.001087</td>\n",
       "      <td>2.121596</td>\n",
       "      <td>-0.532744</td>\n",
       "      <td>-0.506305</td>\n",
       "      <td>...</td>\n",
       "      <td>1.0</td>\n",
       "      <td>0.0</td>\n",
       "      <td>0.0</td>\n",
       "      <td>0.0</td>\n",
       "      <td>1.0</td>\n",
       "      <td>0.0</td>\n",
       "      <td>1.0</td>\n",
       "      <td>0.0</td>\n",
       "      <td>0.0</td>\n",
       "      <td>1.0</td>\n",
       "    </tr>\n",
       "  </tbody>\n",
       "</table>\n",
       "<p>5 rows × 45 columns</p>\n",
       "</div>"
      ],
      "text/plain": [
       "   num__KIDSDRIV  num__AGE  num__HOMEKIDS  num__YOJ  num__INCOME  \\\n",
       "0       -0.36566  0.426135      -0.697162 -0.352634    -0.188267   \n",
       "1       -0.36566  0.313486      -0.697162 -0.596560     0.739371   \n",
       "2       -0.36566 -1.826844       0.169210 -2.547969    -1.284169   \n",
       "3       -0.36566  0.088188      -0.697162  0.623071     4.916309   \n",
       "4       -0.36566 -0.362407       0.169210 -0.596560     1.529917   \n",
       "\n",
       "   num__HOME_VAL  num__TRAVTIME  num__BLUEBOOK  num__TIF  num__OLDCLAIM  ...  \\\n",
       "0       0.328662      -1.579639      -0.476527  0.439906      -0.506305  ...   \n",
       "1      -1.139090       1.012751       0.186926  1.169393       0.419902  ...   \n",
       "2      -1.139090      -0.441517       0.024695 -0.532744      -0.206624  ...   \n",
       "3       0.051368      -0.125371       1.954522  0.439906      -0.506305  ...   \n",
       "4      -1.139090       0.001087       2.121596 -0.532744      -0.506305  ...   \n",
       "\n",
       "   onehot__x6_Pickup  onehot__x6_SUV  onehot__x6_Sports Car  onehot__x6_Van  \\\n",
       "0                0.0             1.0                    0.0             0.0   \n",
       "1                0.0             0.0                    0.0             1.0   \n",
       "2                0.0             0.0                    1.0             0.0   \n",
       "3                0.0             0.0                    0.0             0.0   \n",
       "4                1.0             0.0                    0.0             0.0   \n",
       "\n",
       "   onehot__x7_no  onehot__x7_yes  onehot__x8_No  onehot__x8_Yes  \\\n",
       "0            1.0             0.0            1.0             0.0   \n",
       "1            0.0             1.0            1.0             0.0   \n",
       "2            1.0             0.0            1.0             0.0   \n",
       "3            0.0             1.0            1.0             0.0   \n",
       "4            1.0             0.0            1.0             0.0   \n",
       "\n",
       "   onehot__x9_Highly Rural/ Rural  onehot__x9_Highly Urban/ Urban  \n",
       "0                             0.0                             1.0  \n",
       "1                             0.0                             1.0  \n",
       "2                             0.0                             1.0  \n",
       "3                             0.0                             1.0  \n",
       "4                             0.0                             1.0  \n",
       "\n",
       "[5 rows x 45 columns]"
      ]
     },
     "execution_count": 83,
     "metadata": {},
     "output_type": "execute_result"
    }
   ],
   "source": [
    "df_X_postpro.head()"
   ]
  },
  {
   "cell_type": "code",
   "execution_count": 84,
   "metadata": {},
   "outputs": [
    {
     "data": {
      "text/html": [
       "<div>\n",
       "<style scoped>\n",
       "    .dataframe tbody tr th:only-of-type {\n",
       "        vertical-align: middle;\n",
       "    }\n",
       "\n",
       "    .dataframe tbody tr th {\n",
       "        vertical-align: top;\n",
       "    }\n",
       "\n",
       "    .dataframe thead th {\n",
       "        text-align: right;\n",
       "    }\n",
       "</style>\n",
       "<table border=\"1\" class=\"dataframe\">\n",
       "  <thead>\n",
       "    <tr style=\"text-align: right;\">\n",
       "      <th></th>\n",
       "      <th>num__KIDSDRIV</th>\n",
       "      <th>num__AGE</th>\n",
       "      <th>num__HOMEKIDS</th>\n",
       "      <th>num__YOJ</th>\n",
       "      <th>num__INCOME</th>\n",
       "      <th>num__HOME_VAL</th>\n",
       "      <th>num__TRAVTIME</th>\n",
       "      <th>num__BLUEBOOK</th>\n",
       "      <th>num__TIF</th>\n",
       "      <th>num__OLDCLAIM</th>\n",
       "      <th>...</th>\n",
       "      <th>onehot__x6_Pickup</th>\n",
       "      <th>onehot__x6_SUV</th>\n",
       "      <th>onehot__x6_Sports Car</th>\n",
       "      <th>onehot__x6_Van</th>\n",
       "      <th>onehot__x7_no</th>\n",
       "      <th>onehot__x7_yes</th>\n",
       "      <th>onehot__x8_No</th>\n",
       "      <th>onehot__x8_Yes</th>\n",
       "      <th>onehot__x9_Highly Rural/ Rural</th>\n",
       "      <th>onehot__x9_Highly Urban/ Urban</th>\n",
       "    </tr>\n",
       "    <tr>\n",
       "      <th>INDEX</th>\n",
       "      <th></th>\n",
       "      <th></th>\n",
       "      <th></th>\n",
       "      <th></th>\n",
       "      <th></th>\n",
       "      <th></th>\n",
       "      <th></th>\n",
       "      <th></th>\n",
       "      <th></th>\n",
       "      <th></th>\n",
       "      <th></th>\n",
       "      <th></th>\n",
       "      <th></th>\n",
       "      <th></th>\n",
       "      <th></th>\n",
       "      <th></th>\n",
       "      <th></th>\n",
       "      <th></th>\n",
       "      <th></th>\n",
       "      <th></th>\n",
       "      <th></th>\n",
       "    </tr>\n",
       "  </thead>\n",
       "  <tbody>\n",
       "    <tr>\n",
       "      <th>3</th>\n",
       "      <td>-0.365660</td>\n",
       "      <td>0.426135</td>\n",
       "      <td>-0.697162</td>\n",
       "      <td>0.135219</td>\n",
       "      <td>-0.107494</td>\n",
       "      <td>-1.13909</td>\n",
       "      <td>-0.504746</td>\n",
       "      <td>0.823745</td>\n",
       "      <td>-1.019069</td>\n",
       "      <td>-0.506305</td>\n",
       "      <td>...</td>\n",
       "      <td>0.0</td>\n",
       "      <td>0.0</td>\n",
       "      <td>0.0</td>\n",
       "      <td>1.0</td>\n",
       "      <td>0.0</td>\n",
       "      <td>1.0</td>\n",
       "      <td>1.0</td>\n",
       "      <td>0.0</td>\n",
       "      <td>0.0</td>\n",
       "      <td>1.0</td>\n",
       "    </tr>\n",
       "    <tr>\n",
       "      <th>9</th>\n",
       "      <td>1.446231</td>\n",
       "      <td>-0.475056</td>\n",
       "      <td>0.169210</td>\n",
       "      <td>0.135219</td>\n",
       "      <td>-0.153466</td>\n",
       "      <td>-1.13909</td>\n",
       "      <td>-0.820891</td>\n",
       "      <td>0.455698</td>\n",
       "      <td>0.196744</td>\n",
       "      <td>-0.146841</td>\n",
       "      <td>...</td>\n",
       "      <td>0.0</td>\n",
       "      <td>0.0</td>\n",
       "      <td>0.0</td>\n",
       "      <td>0.0</td>\n",
       "      <td>1.0</td>\n",
       "      <td>0.0</td>\n",
       "      <td>1.0</td>\n",
       "      <td>0.0</td>\n",
       "      <td>0.0</td>\n",
       "      <td>1.0</td>\n",
       "    </tr>\n",
       "    <tr>\n",
       "      <th>10</th>\n",
       "      <td>-0.365660</td>\n",
       "      <td>-0.024460</td>\n",
       "      <td>1.035582</td>\n",
       "      <td>0.379145</td>\n",
       "      <td>-0.316546</td>\n",
       "      <td>-1.13909</td>\n",
       "      <td>-0.251830</td>\n",
       "      <td>-1.121821</td>\n",
       "      <td>1.169393</td>\n",
       "      <td>-0.506305</td>\n",
       "      <td>...</td>\n",
       "      <td>0.0</td>\n",
       "      <td>1.0</td>\n",
       "      <td>0.0</td>\n",
       "      <td>0.0</td>\n",
       "      <td>1.0</td>\n",
       "      <td>0.0</td>\n",
       "      <td>1.0</td>\n",
       "      <td>0.0</td>\n",
       "      <td>1.0</td>\n",
       "      <td>0.0</td>\n",
       "    </tr>\n",
       "    <tr>\n",
       "      <th>18</th>\n",
       "      <td>-0.365660</td>\n",
       "      <td>-1.038301</td>\n",
       "      <td>1.035582</td>\n",
       "      <td>0.135219</td>\n",
       "      <td>-0.812351</td>\n",
       "      <td>-1.13909</td>\n",
       "      <td>2.530248</td>\n",
       "      <td>-0.718664</td>\n",
       "      <td>0.196744</td>\n",
       "      <td>-0.506305</td>\n",
       "      <td>...</td>\n",
       "      <td>1.0</td>\n",
       "      <td>0.0</td>\n",
       "      <td>0.0</td>\n",
       "      <td>0.0</td>\n",
       "      <td>1.0</td>\n",
       "      <td>0.0</td>\n",
       "      <td>0.0</td>\n",
       "      <td>1.0</td>\n",
       "      <td>1.0</td>\n",
       "      <td>0.0</td>\n",
       "    </tr>\n",
       "    <tr>\n",
       "      <th>21</th>\n",
       "      <td>-0.365660</td>\n",
       "      <td>1.665274</td>\n",
       "      <td>-0.697162</td>\n",
       "      <td>0.379145</td>\n",
       "      <td>0.661936</td>\n",
       "      <td>-1.13909</td>\n",
       "      <td>0.696606</td>\n",
       "      <td>0.030748</td>\n",
       "      <td>-1.019069</td>\n",
       "      <td>4.387319</td>\n",
       "      <td>...</td>\n",
       "      <td>0.0</td>\n",
       "      <td>0.0</td>\n",
       "      <td>0.0</td>\n",
       "      <td>0.0</td>\n",
       "      <td>0.0</td>\n",
       "      <td>1.0</td>\n",
       "      <td>1.0</td>\n",
       "      <td>0.0</td>\n",
       "      <td>0.0</td>\n",
       "      <td>1.0</td>\n",
       "    </tr>\n",
       "  </tbody>\n",
       "</table>\n",
       "<p>5 rows × 45 columns</p>\n",
       "</div>"
      ],
      "text/plain": [
       "       num__KIDSDRIV  num__AGE  num__HOMEKIDS  num__YOJ  num__INCOME  \\\n",
       "INDEX                                                                  \n",
       "3          -0.365660  0.426135      -0.697162  0.135219    -0.107494   \n",
       "9           1.446231 -0.475056       0.169210  0.135219    -0.153466   \n",
       "10         -0.365660 -0.024460       1.035582  0.379145    -0.316546   \n",
       "18         -0.365660 -1.038301       1.035582  0.135219    -0.812351   \n",
       "21         -0.365660  1.665274      -0.697162  0.379145     0.661936   \n",
       "\n",
       "       num__HOME_VAL  num__TRAVTIME  num__BLUEBOOK  num__TIF  num__OLDCLAIM  \\\n",
       "INDEX                                                                         \n",
       "3           -1.13909      -0.504746       0.823745 -1.019069      -0.506305   \n",
       "9           -1.13909      -0.820891       0.455698  0.196744      -0.146841   \n",
       "10          -1.13909      -0.251830      -1.121821  1.169393      -0.506305   \n",
       "18          -1.13909       2.530248      -0.718664  0.196744      -0.506305   \n",
       "21          -1.13909       0.696606       0.030748 -1.019069       4.387319   \n",
       "\n",
       "       ...  onehot__x6_Pickup  onehot__x6_SUV  onehot__x6_Sports Car  \\\n",
       "INDEX  ...                                                             \n",
       "3      ...                0.0             0.0                    0.0   \n",
       "9      ...                0.0             0.0                    0.0   \n",
       "10     ...                0.0             1.0                    0.0   \n",
       "18     ...                1.0             0.0                    0.0   \n",
       "21     ...                0.0             0.0                    0.0   \n",
       "\n",
       "       onehot__x6_Van  onehot__x7_no  onehot__x7_yes  onehot__x8_No  \\\n",
       "INDEX                                                                 \n",
       "3                 1.0            0.0             1.0            1.0   \n",
       "9                 0.0            1.0             0.0            1.0   \n",
       "10                0.0            1.0             0.0            1.0   \n",
       "18                0.0            1.0             0.0            0.0   \n",
       "21                0.0            0.0             1.0            1.0   \n",
       "\n",
       "       onehot__x8_Yes  onehot__x9_Highly Rural/ Rural  \\\n",
       "INDEX                                                   \n",
       "3                 0.0                             0.0   \n",
       "9                 0.0                             0.0   \n",
       "10                0.0                             1.0   \n",
       "18                1.0                             1.0   \n",
       "21                0.0                             0.0   \n",
       "\n",
       "       onehot__x9_Highly Urban/ Urban  \n",
       "INDEX                                  \n",
       "3                                 1.0  \n",
       "9                                 1.0  \n",
       "10                                0.0  \n",
       "18                                0.0  \n",
       "21                                1.0  \n",
       "\n",
       "[5 rows x 45 columns]"
      ]
     },
     "execution_count": 84,
     "metadata": {},
     "output_type": "execute_result"
    }
   ],
   "source": [
    "df_X_postpro_test.head()"
   ]
  },
  {
   "cell_type": "code",
   "execution_count": 38,
   "metadata": {},
   "outputs": [],
   "source": [
    "#Feature Selection using RFE from sklearn\n",
    "estimator = GradientBoostingClassifier()\n",
    "selector = RFE(estimator, step=1)\n",
    "selector = selector.fit(df_X_postpro, y)"
   ]
  },
  {
   "cell_type": "code",
   "execution_count": 39,
   "metadata": {},
   "outputs": [
    {
     "data": {
      "text/plain": [
       "array([ True,  True,  True, False,  True,  True,  True,  True,  True,\n",
       "        True, False,  True,  True, False,  True,  True, False, False,\n",
       "       False, False,  True, False, False, False, False, False, False,\n",
       "       False,  True, False, False,  True,  True,  True, False, False,\n",
       "       False, False, False, False, False,  True,  True,  True,  True])"
      ]
     },
     "execution_count": 39,
     "metadata": {},
     "output_type": "execute_result"
    }
   ],
   "source": [
    "selector.support_"
   ]
  },
  {
   "cell_type": "code",
   "execution_count": 40,
   "metadata": {},
   "outputs": [
    {
     "data": {
      "text/plain": [
       "array([ 1,  1,  1,  2,  1,  1,  1,  1,  1,  1,  5,  1,  1,  9,  1,  1,  3,\n",
       "       14, 20, 11,  1, 22, 24,  4, 13,  6, 15, 19,  1, 18,  8,  1,  1,  1,\n",
       "       21, 12, 10,  7, 16, 17, 23,  1,  1,  1,  1])"
      ]
     },
     "execution_count": 40,
     "metadata": {},
     "output_type": "execute_result"
    }
   ],
   "source": [
    "selector.ranking_"
   ]
  },
  {
   "cell_type": "code",
   "execution_count": 85,
   "metadata": {},
   "outputs": [],
   "source": [
    "#Construct new datasets with selected features\n",
    "df_X_postpro_selec = df_X_postpro.loc[:,list(selector.support_)]\n",
    "df_X_postpro_test_selec = df_X_postpro_test.loc[:,list(selector.support_)]"
   ]
  },
  {
   "cell_type": "code",
   "execution_count": 42,
   "metadata": {},
   "outputs": [],
   "source": [
    "#Create a dictionary combining each feature and its ranking\n",
    "post_pro_col_list = list(df_X_postpro)\n",
    "ranking_col = dict()\n",
    "for i, rank in enumerate(list(selector.ranking_)):\n",
    "    ranking_col[post_pro_col_list[i]] = rank"
   ]
  },
  {
   "cell_type": "code",
   "execution_count": 43,
   "metadata": {},
   "outputs": [
    {
     "data": {
      "text/plain": [
       "{'num__KIDSDRIV': 1,\n",
       " 'num__AGE': 1,\n",
       " 'num__HOMEKIDS': 1,\n",
       " 'num__YOJ': 2,\n",
       " 'num__INCOME': 1,\n",
       " 'num__HOME_VAL': 1,\n",
       " 'num__TRAVTIME': 1,\n",
       " 'num__BLUEBOOK': 1,\n",
       " 'num__TIF': 1,\n",
       " 'num__OLDCLAIM': 1,\n",
       " 'num__CLM_FREQ': 5,\n",
       " 'num__MVR_PTS': 1,\n",
       " 'num__CAR_AGE': 1,\n",
       " 'onehot__x0_No': 9,\n",
       " 'onehot__x0_Yes': 1,\n",
       " 'onehot__x1_No': 1,\n",
       " 'onehot__x1_Yes': 3,\n",
       " 'onehot__x2_F': 14,\n",
       " 'onehot__x2_M': 20,\n",
       " 'onehot__x3_Bachelors': 11,\n",
       " 'onehot__x3_High School': 1,\n",
       " 'onehot__x3_Masters': 22,\n",
       " 'onehot__x3_PhD': 24,\n",
       " 'onehot__x4_Blue Collar': 4,\n",
       " 'onehot__x4_Clerical': 13,\n",
       " 'onehot__x4_Doctor': 6,\n",
       " 'onehot__x4_Home Maker': 15,\n",
       " 'onehot__x4_Lawyer': 19,\n",
       " 'onehot__x4_Manager': 1,\n",
       " 'onehot__x4_Professional': 18,\n",
       " 'onehot__x4_Student': 8,\n",
       " 'onehot__x5_Commercial': 1,\n",
       " 'onehot__x5_Private': 1,\n",
       " 'onehot__x6_Minivan': 1,\n",
       " 'onehot__x6_Panel Truck': 21,\n",
       " 'onehot__x6_Pickup': 12,\n",
       " 'onehot__x6_SUV': 10,\n",
       " 'onehot__x6_Sports Car': 7,\n",
       " 'onehot__x6_Van': 16,\n",
       " 'onehot__x7_no': 17,\n",
       " 'onehot__x7_yes': 23,\n",
       " 'onehot__x8_No': 1,\n",
       " 'onehot__x8_Yes': 1,\n",
       " 'onehot__x9_Highly Rural/ Rural': 1,\n",
       " 'onehot__x9_Highly Urban/ Urban': 1}"
      ]
     },
     "execution_count": 43,
     "metadata": {},
     "output_type": "execute_result"
    }
   ],
   "source": [
    "ranking_col"
   ]
  },
  {
   "cell_type": "code",
   "execution_count": 44,
   "metadata": {},
   "outputs": [],
   "source": [
    "#View important variables\n",
    "important_var = {k:v for (k,v) in ranking_col.items() if v <4}"
   ]
  },
  {
   "cell_type": "markdown",
   "metadata": {},
   "source": [
    "The most important variables:"
   ]
  },
  {
   "cell_type": "code",
   "execution_count": 45,
   "metadata": {},
   "outputs": [
    {
     "data": {
      "text/plain": [
       "['num__KIDSDRIV',\n",
       " 'num__AGE',\n",
       " 'num__HOMEKIDS',\n",
       " 'num__YOJ',\n",
       " 'num__INCOME',\n",
       " 'num__HOME_VAL',\n",
       " 'num__TRAVTIME',\n",
       " 'num__BLUEBOOK',\n",
       " 'num__TIF',\n",
       " 'num__OLDCLAIM',\n",
       " 'num__MVR_PTS',\n",
       " 'num__CAR_AGE',\n",
       " 'onehot__x0_Yes',\n",
       " 'onehot__x1_No',\n",
       " 'onehot__x1_Yes',\n",
       " 'onehot__x3_High School',\n",
       " 'onehot__x4_Manager',\n",
       " 'onehot__x5_Commercial',\n",
       " 'onehot__x5_Private',\n",
       " 'onehot__x6_Minivan',\n",
       " 'onehot__x8_No',\n",
       " 'onehot__x8_Yes',\n",
       " 'onehot__x9_Highly Rural/ Rural',\n",
       " 'onehot__x9_Highly Urban/ Urban']"
      ]
     },
     "execution_count": 45,
     "metadata": {},
     "output_type": "execute_result"
    }
   ],
   "source": [
    "list(important_var.keys())"
   ]
  },
  {
   "cell_type": "markdown",
   "metadata": {},
   "source": [
    "### Hyperparameter Optimization - Gradient Boosting XGBoost"
   ]
  },
  {
   "cell_type": "code",
   "execution_count": 46,
   "metadata": {},
   "outputs": [
    {
     "name": "stdout",
     "output_type": "stream",
     "text": [
      "Fitting 5 folds for each of 100 candidates, totalling 500 fits\n"
     ]
    },
    {
     "name": "stderr",
     "output_type": "stream",
     "text": [
      "[Parallel(n_jobs=-1)]: Using backend LokyBackend with 8 concurrent workers.\n",
      "[Parallel(n_jobs=-1)]: Done  25 tasks      | elapsed:   39.1s\n",
      "[Parallel(n_jobs=-1)]: Done 146 tasks      | elapsed:  4.1min\n",
      "[Parallel(n_jobs=-1)]: Done 349 tasks      | elapsed: 10.8min\n",
      "[Parallel(n_jobs=-1)]: Done 500 out of 500 | elapsed: 16.4min finished\n",
      "C:\\Users\\dohak\\Anaconda3\\lib\\site-packages\\sklearn\\model_selection\\_search.py:849: FutureWarning: The parameter 'iid' is deprecated in 0.22 and will be removed in 0.24.\n",
      "  \"removed in 0.24.\", FutureWarning\n"
     ]
    },
    {
     "data": {
      "text/plain": [
       "RandomizedSearchCV(cv=5,\n",
       "                   estimator=XGBClassifier(learning_rate=0.005,\n",
       "                                           n_estimators=1000),\n",
       "                   iid=False, n_iter=100, n_jobs=-1,\n",
       "                   param_distributions={'colsample_bylevel': array([0.3, 0.4, 0.5, 0.6, 0.7, 0.8, 0.9]),\n",
       "                                        'colsample_bynode': array([0.3, 0.4, 0.5, 0.6, 0.7, 0.8, 0.9]),\n",
       "                                        'colsample_bytree': array([0.3, 0.4, 0.5, 0.6, 0.7, 0.8, 0.9]),\n",
       "                                        'max_depth': [2, 4, 6, 8, 10, 12],\n",
       "                                        'min_child_weight': [4, 5, 6, 7, 8],\n",
       "                                        'reg_alpha': [0.001, 0.005, 0.0005],\n",
       "                                        'reg_lambda': [0.001, 0.005, 0.0005],\n",
       "                                        'subsample': array([0.7 , 0.71, 0.72, 0.73, 0.74, 0.75, 0.76, 0.77, 0.78, 0.79, 0.8 ,\n",
       "       0.81, 0.82, 0.83, 0.84, 0.85, 0.86, 0.87, 0.88, 0.89, 0.9 , 0.91,\n",
       "       0.92, 0.93, 0.94, 0.95, 0.96, 0.97, 0.98, 0.99, 1.  ])},\n",
       "                   scoring='accuracy', verbose=2)"
      ]
     },
     "execution_count": 46,
     "metadata": {},
     "output_type": "execute_result"
    }
   ],
   "source": [
    "#Define an estimator with a coherent n_estimators*learning_rate\n",
    "clfe = xgb.XGBClassifier(n_estimators=1000,\n",
    "                       objective='binary:logistic',\n",
    "                       learning_rate=0.005,\n",
    "                      )\n",
    " \n",
    "#List of parameters and their values to choose randomly from\n",
    "param_dist = {\n",
    "                    'max_depth':[2, 4, 6, 8, 10, 12],  \n",
    "                    'min_child_weight':[4, 5, 6, 7, 8],\n",
    "\n",
    "                    'subsample':np.arange(0.70, 1.00, 0.01),\n",
    "                    'colsample_bytree': np.arange(0.30, 1, 0.1), \n",
    "                    'colsample_bylevel': np.arange(0.30, 1, 0.1),\n",
    "                    'colsample_bynode': np.arange(0.30, 1, 0.1),\n",
    "                    'reg_alpha':[.001, .005, .0005],\n",
    "                    'reg_lambda':[.001, .005, .0005],\n",
    "                    }\n",
    "\n",
    "\n",
    "\n",
    "# run randomized search\n",
    "n_iter_search = 100\n",
    "\n",
    "random_search = RandomizedSearchCV(clfe, param_distributions=param_dist,\n",
    "                                   n_iter=n_iter_search, cv=5, iid=False, \n",
    "                                   scoring='accuracy',\n",
    "                                   n_jobs =-1,\n",
    "                                   verbose=2)\n",
    "\n",
    "random_search.fit(df_X_postpro_selec, y)"
   ]
  },
  {
   "cell_type": "code",
   "execution_count": 47,
   "metadata": {},
   "outputs": [
    {
     "name": "stdout",
     "output_type": "stream",
     "text": [
      "Model with rank: 1\n",
      "Mean validation score: 0.747 (std: 0.013)\n",
      "Parameters: {'subsample': 0.9800000000000002, 'reg_lambda': 0.0005, 'reg_alpha': 0.005, 'min_child_weight': 4, 'max_depth': 12, 'colsample_bytree': 0.7000000000000002, 'colsample_bynode': 0.3, 'colsample_bylevel': 0.6000000000000001}\n",
      "\n",
      "Model with rank: 2\n",
      "Mean validation score: 0.746 (std: 0.015)\n",
      "Parameters: {'subsample': 0.73, 'reg_lambda': 0.005, 'reg_alpha': 0.0005, 'min_child_weight': 4, 'max_depth': 10, 'colsample_bytree': 0.9000000000000001, 'colsample_bynode': 0.4, 'colsample_bylevel': 0.4}\n",
      "\n",
      "Model with rank: 3\n",
      "Mean validation score: 0.745 (std: 0.012)\n",
      "Parameters: {'subsample': 0.9900000000000002, 'reg_lambda': 0.0005, 'reg_alpha': 0.001, 'min_child_weight': 5, 'max_depth': 12, 'colsample_bytree': 0.7000000000000002, 'colsample_bynode': 0.5, 'colsample_bylevel': 0.4}\n",
      "\n",
      "Model with rank: 4\n",
      "Mean validation score: 0.745 (std: 0.012)\n",
      "Parameters: {'subsample': 0.8600000000000001, 'reg_lambda': 0.005, 'reg_alpha': 0.001, 'min_child_weight': 7, 'max_depth': 8, 'colsample_bytree': 0.7000000000000002, 'colsample_bynode': 0.7000000000000002, 'colsample_bylevel': 0.6000000000000001}\n",
      "\n",
      "Model with rank: 5\n",
      "Mean validation score: 0.745 (std: 0.010)\n",
      "Parameters: {'subsample': 0.76, 'reg_lambda': 0.0005, 'reg_alpha': 0.0005, 'min_child_weight': 6, 'max_depth': 10, 'colsample_bytree': 0.7000000000000002, 'colsample_bynode': 0.7000000000000002, 'colsample_bylevel': 0.6000000000000001}\n",
      "\n"
     ]
    }
   ],
   "source": [
    "# Utility function to report best scores\n",
    "def report(results, n_top=3):\n",
    "    for i in range(1, n_top + 1):\n",
    "        candidates = np.flatnonzero(results['rank_test_score'] == i)\n",
    "        for candidate in candidates:\n",
    "            print(\"Model with rank: {0}\".format(i))\n",
    "            print(\"Mean validation score: {0:.3f} (std: {1:.3f})\".format(\n",
    "                  results['mean_test_score'][candidate],\n",
    "                  results['std_test_score'][candidate]))\n",
    "            print(\"Parameters: {0}\".format(results['params'][candidate]))\n",
    "            print(\"\")\n",
    "report(random_search.cv_results_, 5)   "
   ]
  },
  {
   "cell_type": "code",
   "execution_count": 51,
   "metadata": {},
   "outputs": [
    {
     "name": "stdout",
     "output_type": "stream",
     "text": [
      "Accuracy: 0.74 (+/- 0.02)\n"
     ]
    }
   ],
   "source": [
    "#Lauching the classifier with the optimal parameters and doing a cross-validation score\n",
    "params =  {'subsample': 0.9800000000000002,\n",
    "           'reg_lambda': 0.0005,\n",
    "           'reg_alpha': 0.005,\n",
    "           'min_child_weight': 4,\n",
    "           'max_depth': 12,\n",
    "           'colsample_bytree': 0.7000000000000002,\n",
    "           'colsample_bynode': 0.3,\n",
    "           'colsample_bylevel': 0.6000000000000001}\n",
    "\n",
    "final_model = xgb.XGBClassifier(**params)\n",
    "\n",
    "scores = cross_val_score(final_model, df_X_postpro_selec, y, cv=5, scoring='accuracy')\n",
    "\n",
    "print(\"Accuracy: %0.2f (+/- %0.2f)\" % (scores.mean(), scores.std() * 2))"
   ]
  },
  {
   "cell_type": "markdown",
   "metadata": {},
   "source": [
    "The accuracy did not improve after variablre selection and hyper-parameter optimization."
   ]
  },
  {
   "cell_type": "markdown",
   "metadata": {},
   "source": [
    "### Final Model - Test Prediction"
   ]
  },
  {
   "cell_type": "code",
   "execution_count": 86,
   "metadata": {},
   "outputs": [],
   "source": [
    "#Applying the model on all the train data\n",
    "final_model_for_test = xgb.XGBClassifier(**params)\n",
    "final_model_for_test.fit(df_X_postpro_selec, y)\n",
    "\n",
    "#Predicting values for the test data\n",
    "y_test = final_model_for_test.predict(df_X_postpro_test_selec)"
   ]
  },
  {
   "cell_type": "code",
   "execution_count": 87,
   "metadata": {},
   "outputs": [
    {
     "data": {
      "image/png": "[encoded data removed]",
      "text/plain": [
       "<Figure size 432x288 with 1 Axes>"
      ]
     },
     "metadata": {
      "needs_background": "light"
     },
     "output_type": "display_data"
    }
   ],
   "source": [
    "#View features importance\n",
    "plot_importance(final_model_for_test)\n",
    "plt.show()"
   ]
  },
  {
   "cell_type": "code",
   "execution_count": 99,
   "metadata": {},
   "outputs": [],
   "source": [
    "#Save the predicted values for the test set in a csv.\n",
    "df_test_results = pd.DataFrame(y_test, index=df_X_postpro_test_selec.index, columns=['TARGET_FLAG'])\n",
    "df_test_results.to_csv('results_y_test.csv', index=True, sep=';')"
   ]
  }
 ],
 "metadata": {
  "kernelspec": {
   "display_name": "Python 3",
   "language": "python",
   "name": "python3"
  },
  "language_info": {
   "codemirror_mode": {
    "name": "ipython",
    "version": 3
   },
   "file_extension": ".py",
   "mimetype": "text/x-python",
   "name": "python",
   "nbconvert_exporter": "python",
   "pygments_lexer": "ipython3",
   "version": "3.7.3"
  }
 },
 "nbformat": 4,
 "nbformat_minor": 4
}
